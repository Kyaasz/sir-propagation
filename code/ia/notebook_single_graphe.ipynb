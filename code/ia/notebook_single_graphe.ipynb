{
 "cells": [
  {
   "cell_type": "markdown",
   "metadata": {},
   "source": [
    "# Notebook Machine Learning : prédictions des métriques des simulations"
   ]
  },
  {
   "cell_type": "code",
   "execution_count": 359,
   "metadata": {},
   "outputs": [],
   "source": [
    "import pandas as pd\n",
    "import matplotlib.pyplot as plt"
   ]
  },
  {
   "cell_type": "markdown",
   "metadata": {},
   "source": [
    "Récupération des données"
   ]
  },
  {
   "cell_type": "code",
   "execution_count": 360,
   "metadata": {},
   "outputs": [
    {
     "data": {
      "text/plain": [
       "\"dataframe = dataframe[dataframe['dynamique de propagation'] == 3]\""
      ]
     },
     "execution_count": 360,
     "metadata": {},
     "output_type": "execute_result"
    }
   ],
   "source": [
    "dataframe = pd.read_csv(\"resultats/resultats14.csv\")\n",
    "\n",
    "dataframe = dataframe[dataframe['epidemic peak'] > 10] ### tri du dataframe en retirant les cas extremes\n",
    "\"\"\"dataframe = dataframe[dataframe['dynamique de propagation'] == 3]\"\"\""
   ]
  },
  {
   "cell_type": "markdown",
   "metadata": {},
   "source": [
    "Tri des caractéristiques utiles"
   ]
  },
  {
   "cell_type": "code",
   "execution_count": 361,
   "metadata": {},
   "outputs": [],
   "source": [
    "var = dataframe.columns.drop(['epidemic peak', 'time to extinction', 'proportion propagation', 'probabilite I -> S', 'probabilite S -> R', 'degre du noeud source', 'dynamique de propagation'])\n",
    "X = dataframe[var]\n",
    "Y = dataframe[['epidemic peak']]"
   ]
  },
  {
   "cell_type": "code",
   "execution_count": 362,
   "metadata": {},
   "outputs": [
    {
     "data": {
      "text/plain": [
       "(17408, 10)"
      ]
     },
     "execution_count": 362,
     "metadata": {},
     "output_type": "execute_result"
    }
   ],
   "source": [
    "X.shape"
   ]
  },
  {
   "cell_type": "code",
   "execution_count": 363,
   "metadata": {},
   "outputs": [
    {
     "data": {
      "text/plain": [
       "\"import math\\nX['probabilite I -> S']=X['probabilite I -> S'].map(lambda a : math.log(a)**2)\\nX['probabilite S -> R']=X['probabilite S -> R'].map(lambda a : math.log(a)**2)\\nprint(X['probabilite I -> S'].head(10))\\nprint(X['probabilite S -> R'].head(10))\""
      ]
     },
     "execution_count": 363,
     "metadata": {},
     "output_type": "execute_result"
    }
   ],
   "source": [
    "\"\"\"import math\n",
    "X['probabilite I -> S']=X['probabilite I -> S'].map(lambda a : math.log(a)**2)\n",
    "X['probabilite S -> R']=X['probabilite S -> R'].map(lambda a : math.log(a)**2)\n",
    "print(X['probabilite I -> S'].head(10))\n",
    "print(X['probabilite S -> R'].head(10))\"\"\""
   ]
  },
  {
   "cell_type": "code",
   "execution_count": 364,
   "metadata": {},
   "outputs": [
    {
     "name": "stdout",
     "output_type": "stream",
     "text": [
      "nombre de pics à 58 dans le dataframe (193, 17)\n",
      "nombre de pics à 57 dans le dataframe (216, 17)\n",
      "nombre de pics à 59 dans le dataframe (195, 17)\n",
      "nombre de pics à 77 dans le dataframe (266, 17)\n",
      "nombre de pics à 66 dans le dataframe (249, 17)\n"
     ]
    }
   ],
   "source": [
    "pb_58 = dataframe[dataframe['epidemic peak'] == 58]\n",
    "print(\"nombre de pics à 58 dans le dataframe\", pb_58.shape)\n",
    "p57 = dataframe[dataframe['epidemic peak'] == 57]\n",
    "print(\"nombre de pics à 57 dans le dataframe\", p57.shape)\n",
    "p59 = dataframe[dataframe['epidemic peak'] == 59]\n",
    "print(\"nombre de pics à 59 dans le dataframe\", p59.shape)\n",
    "p64 = dataframe[dataframe['epidemic peak'] == 77]\n",
    "print(\"nombre de pics à 77 dans le dataframe\", p64.shape)\n",
    "p64 = dataframe[dataframe['epidemic peak'] == 66]\n",
    "print(\"nombre de pics à 66 dans le dataframe\", p64.shape)\n",
    "\n"
   ]
  },
  {
   "cell_type": "code",
   "execution_count": 365,
   "metadata": {},
   "outputs": [
    {
     "data": {
      "text/html": [
       "<div>\n",
       "<style scoped>\n",
       "    .dataframe tbody tr th:only-of-type {\n",
       "        vertical-align: middle;\n",
       "    }\n",
       "\n",
       "    .dataframe tbody tr th {\n",
       "        vertical-align: top;\n",
       "    }\n",
       "\n",
       "    .dataframe thead th {\n",
       "        text-align: right;\n",
       "    }\n",
       "</style>\n",
       "<table border=\"1\" class=\"dataframe\">\n",
       "  <thead>\n",
       "    <tr style=\"text-align: right;\">\n",
       "      <th></th>\n",
       "      <th>nombre de noeuds</th>\n",
       "      <th>nombre d'aretes</th>\n",
       "      <th>degre moyen</th>\n",
       "      <th>degre minimal</th>\n",
       "      <th>degre maximal</th>\n",
       "      <th>distance moyenne</th>\n",
       "      <th>nombre de honeypots</th>\n",
       "      <th>nombre de smart honeypots</th>\n",
       "      <th>nombre inf 5</th>\n",
       "      <th>nombre res 5</th>\n",
       "    </tr>\n",
       "  </thead>\n",
       "  <tbody>\n",
       "    <tr>\n",
       "      <th>0</th>\n",
       "      <td>131</td>\n",
       "      <td>374</td>\n",
       "      <td>5.709924</td>\n",
       "      <td>3</td>\n",
       "      <td>10</td>\n",
       "      <td>4.935995</td>\n",
       "      <td>6</td>\n",
       "      <td>0</td>\n",
       "      <td>11</td>\n",
       "      <td>35</td>\n",
       "    </tr>\n",
       "    <tr>\n",
       "      <th>1</th>\n",
       "      <td>116</td>\n",
       "      <td>326</td>\n",
       "      <td>5.620690</td>\n",
       "      <td>3</td>\n",
       "      <td>11</td>\n",
       "      <td>4.869115</td>\n",
       "      <td>21</td>\n",
       "      <td>10</td>\n",
       "      <td>11</td>\n",
       "      <td>14</td>\n",
       "    </tr>\n",
       "    <tr>\n",
       "      <th>2</th>\n",
       "      <td>116</td>\n",
       "      <td>328</td>\n",
       "      <td>5.655172</td>\n",
       "      <td>3</td>\n",
       "      <td>10</td>\n",
       "      <td>4.737031</td>\n",
       "      <td>24</td>\n",
       "      <td>9</td>\n",
       "      <td>6</td>\n",
       "      <td>7</td>\n",
       "    </tr>\n",
       "    <tr>\n",
       "      <th>3</th>\n",
       "      <td>112</td>\n",
       "      <td>318</td>\n",
       "      <td>5.678571</td>\n",
       "      <td>3</td>\n",
       "      <td>10</td>\n",
       "      <td>4.486969</td>\n",
       "      <td>2</td>\n",
       "      <td>0</td>\n",
       "      <td>13</td>\n",
       "      <td>2</td>\n",
       "    </tr>\n",
       "    <tr>\n",
       "      <th>4</th>\n",
       "      <td>131</td>\n",
       "      <td>375</td>\n",
       "      <td>5.725191</td>\n",
       "      <td>3</td>\n",
       "      <td>9</td>\n",
       "      <td>4.883500</td>\n",
       "      <td>5</td>\n",
       "      <td>0</td>\n",
       "      <td>14</td>\n",
       "      <td>26</td>\n",
       "    </tr>\n",
       "    <tr>\n",
       "      <th>5</th>\n",
       "      <td>137</td>\n",
       "      <td>393</td>\n",
       "      <td>5.737226</td>\n",
       "      <td>3</td>\n",
       "      <td>9</td>\n",
       "      <td>4.929369</td>\n",
       "      <td>28</td>\n",
       "      <td>8</td>\n",
       "      <td>10</td>\n",
       "      <td>20</td>\n",
       "    </tr>\n",
       "    <tr>\n",
       "      <th>6</th>\n",
       "      <td>86</td>\n",
       "      <td>240</td>\n",
       "      <td>5.581395</td>\n",
       "      <td>3</td>\n",
       "      <td>10</td>\n",
       "      <td>3.982763</td>\n",
       "      <td>19</td>\n",
       "      <td>4</td>\n",
       "      <td>8</td>\n",
       "      <td>16</td>\n",
       "    </tr>\n",
       "    <tr>\n",
       "      <th>7</th>\n",
       "      <td>132</td>\n",
       "      <td>375</td>\n",
       "      <td>5.681818</td>\n",
       "      <td>4</td>\n",
       "      <td>9</td>\n",
       "      <td>5.174416</td>\n",
       "      <td>9</td>\n",
       "      <td>1</td>\n",
       "      <td>11</td>\n",
       "      <td>12</td>\n",
       "    </tr>\n",
       "    <tr>\n",
       "      <th>8</th>\n",
       "      <td>119</td>\n",
       "      <td>337</td>\n",
       "      <td>5.663866</td>\n",
       "      <td>3</td>\n",
       "      <td>9</td>\n",
       "      <td>4.704743</td>\n",
       "      <td>4</td>\n",
       "      <td>2</td>\n",
       "      <td>14</td>\n",
       "      <td>20</td>\n",
       "    </tr>\n",
       "    <tr>\n",
       "      <th>9</th>\n",
       "      <td>80</td>\n",
       "      <td>225</td>\n",
       "      <td>5.625000</td>\n",
       "      <td>3</td>\n",
       "      <td>9</td>\n",
       "      <td>3.840823</td>\n",
       "      <td>6</td>\n",
       "      <td>1</td>\n",
       "      <td>13</td>\n",
       "      <td>22</td>\n",
       "    </tr>\n",
       "  </tbody>\n",
       "</table>\n",
       "</div>"
      ],
      "text/plain": [
       "   nombre de noeuds  nombre d'aretes  degre moyen  degre minimal  \\\n",
       "0               131              374     5.709924              3   \n",
       "1               116              326     5.620690              3   \n",
       "2               116              328     5.655172              3   \n",
       "3               112              318     5.678571              3   \n",
       "4               131              375     5.725191              3   \n",
       "5               137              393     5.737226              3   \n",
       "6                86              240     5.581395              3   \n",
       "7               132              375     5.681818              4   \n",
       "8               119              337     5.663866              3   \n",
       "9                80              225     5.625000              3   \n",
       "\n",
       "   degre maximal  distance moyenne  nombre de honeypots  \\\n",
       "0             10          4.935995                    6   \n",
       "1             11          4.869115                   21   \n",
       "2             10          4.737031                   24   \n",
       "3             10          4.486969                    2   \n",
       "4              9          4.883500                    5   \n",
       "5              9          4.929369                   28   \n",
       "6             10          3.982763                   19   \n",
       "7              9          5.174416                    9   \n",
       "8              9          4.704743                    4   \n",
       "9              9          3.840823                    6   \n",
       "\n",
       "   nombre de smart honeypots  nombre inf 5  nombre res 5  \n",
       "0                          0            11            35  \n",
       "1                         10            11            14  \n",
       "2                          9             6             7  \n",
       "3                          0            13             2  \n",
       "4                          0            14            26  \n",
       "5                          8            10            20  \n",
       "6                          4             8            16  \n",
       "7                          1            11            12  \n",
       "8                          2            14            20  \n",
       "9                          1            13            22  "
      ]
     },
     "execution_count": 365,
     "metadata": {},
     "output_type": "execute_result"
    }
   ],
   "source": [
    "X.head(10)"
   ]
  },
  {
   "cell_type": "markdown",
   "metadata": {},
   "source": [
    "Pré-traitement des données : encodage factice"
   ]
  },
  {
   "cell_type": "code",
   "execution_count": 366,
   "metadata": {},
   "outputs": [],
   "source": [
    "from sklearn.preprocessing import OneHotEncoder, StandardScaler\n",
    "from sklearn.compose import ColumnTransformer"
   ]
  },
  {
   "cell_type": "code",
   "execution_count": 367,
   "metadata": {},
   "outputs": [],
   "source": [
    "### prétraitement des données catégorielles (ici le type de propagation)\n",
    "\"\"\"ct = ColumnTransformer([(\"PropagationType\", OneHotEncoder(), [6])], remainder=\"passthrough\", sparse_threshold=0, verbose=True)\n",
    "X = ct.fit_transform(X)  ### encodage factice\"\"\"\n",
    "sc_x = StandardScaler()\n",
    "sc_y = StandardScaler()"
   ]
  },
  {
   "cell_type": "markdown",
   "metadata": {},
   "source": [
    "Division du dataset en 3 ensembles : Train, Test et Validation"
   ]
  },
  {
   "cell_type": "code",
   "execution_count": 368,
   "metadata": {},
   "outputs": [],
   "source": [
    "from sklearn.model_selection import train_test_split"
   ]
  },
  {
   "cell_type": "code",
   "execution_count": 369,
   "metadata": {},
   "outputs": [],
   "source": [
    "x_train1, x_test, y_train1, y_test = train_test_split(X, Y, test_size=0.15, random_state=1, shuffle=True)\n",
    "x_train, x_val, y_train, y_val = train_test_split(x_train1, y_train1, test_size=(0.15/0.85), random_state=12, shuffle= True)"
   ]
  },
  {
   "cell_type": "markdown",
   "metadata": {},
   "source": [
    "Pré-traitement des données : normalisation"
   ]
  },
  {
   "cell_type": "code",
   "execution_count": 370,
   "metadata": {},
   "outputs": [],
   "source": [
    "### normalisation des x\n",
    "x_train = sc_x.fit_transform(x_train)\n",
    "x_val = sc_x.transform(x_val)\n",
    "x_test = sc_x.transform(x_test)\n",
    "\n",
    "### normalisation des y \n",
    "y_train = sc_y.fit_transform(y_train)\n",
    "y_val = sc_y.transform(y_val)\n",
    "y_test = sc_y.transform(y_test)"
   ]
  },
  {
   "cell_type": "markdown",
   "metadata": {},
   "source": [
    "## Création du modèle"
   ]
  },
  {
   "cell_type": "code",
   "execution_count": 371,
   "metadata": {},
   "outputs": [],
   "source": [
    "from tensorflow.keras.models import Sequential\n",
    "from tensorflow.keras.layers import Dense, Dropout\n",
    "from tensorflow.keras import optimizers\n",
    "from tensorflow.keras import metrics"
   ]
  },
  {
   "cell_type": "code",
   "execution_count": 372,
   "metadata": {},
   "outputs": [
    {
     "name": "stderr",
     "output_type": "stream",
     "text": [
      "c:\\Users\\yassi\\.julia\\conda\\3\\x86_64\\lib\\site-packages\\keras\\src\\layers\\core\\dense.py:87: UserWarning: Do not pass an `input_shape`/`input_dim` argument to a layer. When using Sequential models, prefer using an `Input(shape)` object as the first layer in the model instead.\n",
      "  super().__init__(activity_regularizer=activity_regularizer, **kwargs)\n"
     ]
    },
    {
     "data": {
      "text/html": [
       "<pre style=\"white-space:pre;overflow-x:auto;line-height:normal;font-family:Menlo,'DejaVu Sans Mono',consolas,'Courier New',monospace\"><span style=\"font-weight: bold\">Model: \"sequential_14\"</span>\n",
       "</pre>\n"
      ],
      "text/plain": [
       "\u001b[1mModel: \"sequential_14\"\u001b[0m\n"
      ]
     },
     "metadata": {},
     "output_type": "display_data"
    },
    {
     "data": {
      "text/html": [
       "<pre style=\"white-space:pre;overflow-x:auto;line-height:normal;font-family:Menlo,'DejaVu Sans Mono',consolas,'Courier New',monospace\">┏━━━━━━━━━━━━━━━━━━━━━━━━━━━━━━━━━┳━━━━━━━━━━━━━━━━━━━━━━━━┳━━━━━━━━━━━━━━━┓\n",
       "┃<span style=\"font-weight: bold\"> Layer (type)                    </span>┃<span style=\"font-weight: bold\"> Output Shape           </span>┃<span style=\"font-weight: bold\">       Param # </span>┃\n",
       "┡━━━━━━━━━━━━━━━━━━━━━━━━━━━━━━━━━╇━━━━━━━━━━━━━━━━━━━━━━━━╇━━━━━━━━━━━━━━━┩\n",
       "│ dense_70 (<span style=\"color: #0087ff; text-decoration-color: #0087ff\">Dense</span>)                │ (<span style=\"color: #00d7ff; text-decoration-color: #00d7ff\">None</span>, <span style=\"color: #00af00; text-decoration-color: #00af00\">160</span>)            │         <span style=\"color: #00af00; text-decoration-color: #00af00\">1,760</span> │\n",
       "├─────────────────────────────────┼────────────────────────┼───────────────┤\n",
       "│ dropout_56 (<span style=\"color: #0087ff; text-decoration-color: #0087ff\">Dropout</span>)            │ (<span style=\"color: #00d7ff; text-decoration-color: #00d7ff\">None</span>, <span style=\"color: #00af00; text-decoration-color: #00af00\">160</span>)            │             <span style=\"color: #00af00; text-decoration-color: #00af00\">0</span> │\n",
       "├─────────────────────────────────┼────────────────────────┼───────────────┤\n",
       "│ dense_71 (<span style=\"color: #0087ff; text-decoration-color: #0087ff\">Dense</span>)                │ (<span style=\"color: #00d7ff; text-decoration-color: #00d7ff\">None</span>, <span style=\"color: #00af00; text-decoration-color: #00af00\">128</span>)            │        <span style=\"color: #00af00; text-decoration-color: #00af00\">20,608</span> │\n",
       "├─────────────────────────────────┼────────────────────────┼───────────────┤\n",
       "│ dropout_57 (<span style=\"color: #0087ff; text-decoration-color: #0087ff\">Dropout</span>)            │ (<span style=\"color: #00d7ff; text-decoration-color: #00d7ff\">None</span>, <span style=\"color: #00af00; text-decoration-color: #00af00\">128</span>)            │             <span style=\"color: #00af00; text-decoration-color: #00af00\">0</span> │\n",
       "├─────────────────────────────────┼────────────────────────┼───────────────┤\n",
       "│ dense_72 (<span style=\"color: #0087ff; text-decoration-color: #0087ff\">Dense</span>)                │ (<span style=\"color: #00d7ff; text-decoration-color: #00d7ff\">None</span>, <span style=\"color: #00af00; text-decoration-color: #00af00\">128</span>)            │        <span style=\"color: #00af00; text-decoration-color: #00af00\">16,512</span> │\n",
       "├─────────────────────────────────┼────────────────────────┼───────────────┤\n",
       "│ dropout_58 (<span style=\"color: #0087ff; text-decoration-color: #0087ff\">Dropout</span>)            │ (<span style=\"color: #00d7ff; text-decoration-color: #00d7ff\">None</span>, <span style=\"color: #00af00; text-decoration-color: #00af00\">128</span>)            │             <span style=\"color: #00af00; text-decoration-color: #00af00\">0</span> │\n",
       "├─────────────────────────────────┼────────────────────────┼───────────────┤\n",
       "│ dense_73 (<span style=\"color: #0087ff; text-decoration-color: #0087ff\">Dense</span>)                │ (<span style=\"color: #00d7ff; text-decoration-color: #00d7ff\">None</span>, <span style=\"color: #00af00; text-decoration-color: #00af00\">96</span>)             │        <span style=\"color: #00af00; text-decoration-color: #00af00\">12,384</span> │\n",
       "├─────────────────────────────────┼────────────────────────┼───────────────┤\n",
       "│ dropout_59 (<span style=\"color: #0087ff; text-decoration-color: #0087ff\">Dropout</span>)            │ (<span style=\"color: #00d7ff; text-decoration-color: #00d7ff\">None</span>, <span style=\"color: #00af00; text-decoration-color: #00af00\">96</span>)             │             <span style=\"color: #00af00; text-decoration-color: #00af00\">0</span> │\n",
       "├─────────────────────────────────┼────────────────────────┼───────────────┤\n",
       "│ dense_74 (<span style=\"color: #0087ff; text-decoration-color: #0087ff\">Dense</span>)                │ (<span style=\"color: #00d7ff; text-decoration-color: #00d7ff\">None</span>, <span style=\"color: #00af00; text-decoration-color: #00af00\">1</span>)              │            <span style=\"color: #00af00; text-decoration-color: #00af00\">97</span> │\n",
       "└─────────────────────────────────┴────────────────────────┴───────────────┘\n",
       "</pre>\n"
      ],
      "text/plain": [
       "┏━━━━━━━━━━━━━━━━━━━━━━━━━━━━━━━━━┳━━━━━━━━━━━━━━━━━━━━━━━━┳━━━━━━━━━━━━━━━┓\n",
       "┃\u001b[1m \u001b[0m\u001b[1mLayer (type)                   \u001b[0m\u001b[1m \u001b[0m┃\u001b[1m \u001b[0m\u001b[1mOutput Shape          \u001b[0m\u001b[1m \u001b[0m┃\u001b[1m \u001b[0m\u001b[1m      Param #\u001b[0m\u001b[1m \u001b[0m┃\n",
       "┡━━━━━━━━━━━━━━━━━━━━━━━━━━━━━━━━━╇━━━━━━━━━━━━━━━━━━━━━━━━╇━━━━━━━━━━━━━━━┩\n",
       "│ dense_70 (\u001b[38;5;33mDense\u001b[0m)                │ (\u001b[38;5;45mNone\u001b[0m, \u001b[38;5;34m160\u001b[0m)            │         \u001b[38;5;34m1,760\u001b[0m │\n",
       "├─────────────────────────────────┼────────────────────────┼───────────────┤\n",
       "│ dropout_56 (\u001b[38;5;33mDropout\u001b[0m)            │ (\u001b[38;5;45mNone\u001b[0m, \u001b[38;5;34m160\u001b[0m)            │             \u001b[38;5;34m0\u001b[0m │\n",
       "├─────────────────────────────────┼────────────────────────┼───────────────┤\n",
       "│ dense_71 (\u001b[38;5;33mDense\u001b[0m)                │ (\u001b[38;5;45mNone\u001b[0m, \u001b[38;5;34m128\u001b[0m)            │        \u001b[38;5;34m20,608\u001b[0m │\n",
       "├─────────────────────────────────┼────────────────────────┼───────────────┤\n",
       "│ dropout_57 (\u001b[38;5;33mDropout\u001b[0m)            │ (\u001b[38;5;45mNone\u001b[0m, \u001b[38;5;34m128\u001b[0m)            │             \u001b[38;5;34m0\u001b[0m │\n",
       "├─────────────────────────────────┼────────────────────────┼───────────────┤\n",
       "│ dense_72 (\u001b[38;5;33mDense\u001b[0m)                │ (\u001b[38;5;45mNone\u001b[0m, \u001b[38;5;34m128\u001b[0m)            │        \u001b[38;5;34m16,512\u001b[0m │\n",
       "├─────────────────────────────────┼────────────────────────┼───────────────┤\n",
       "│ dropout_58 (\u001b[38;5;33mDropout\u001b[0m)            │ (\u001b[38;5;45mNone\u001b[0m, \u001b[38;5;34m128\u001b[0m)            │             \u001b[38;5;34m0\u001b[0m │\n",
       "├─────────────────────────────────┼────────────────────────┼───────────────┤\n",
       "│ dense_73 (\u001b[38;5;33mDense\u001b[0m)                │ (\u001b[38;5;45mNone\u001b[0m, \u001b[38;5;34m96\u001b[0m)             │        \u001b[38;5;34m12,384\u001b[0m │\n",
       "├─────────────────────────────────┼────────────────────────┼───────────────┤\n",
       "│ dropout_59 (\u001b[38;5;33mDropout\u001b[0m)            │ (\u001b[38;5;45mNone\u001b[0m, \u001b[38;5;34m96\u001b[0m)             │             \u001b[38;5;34m0\u001b[0m │\n",
       "├─────────────────────────────────┼────────────────────────┼───────────────┤\n",
       "│ dense_74 (\u001b[38;5;33mDense\u001b[0m)                │ (\u001b[38;5;45mNone\u001b[0m, \u001b[38;5;34m1\u001b[0m)              │            \u001b[38;5;34m97\u001b[0m │\n",
       "└─────────────────────────────────┴────────────────────────┴───────────────┘\n"
      ]
     },
     "metadata": {},
     "output_type": "display_data"
    },
    {
     "data": {
      "text/html": [
       "<pre style=\"white-space:pre;overflow-x:auto;line-height:normal;font-family:Menlo,'DejaVu Sans Mono',consolas,'Courier New',monospace\"><span style=\"font-weight: bold\"> Total params: </span><span style=\"color: #00af00; text-decoration-color: #00af00\">51,361</span> (200.63 KB)\n",
       "</pre>\n"
      ],
      "text/plain": [
       "\u001b[1m Total params: \u001b[0m\u001b[38;5;34m51,361\u001b[0m (200.63 KB)\n"
      ]
     },
     "metadata": {},
     "output_type": "display_data"
    },
    {
     "data": {
      "text/html": [
       "<pre style=\"white-space:pre;overflow-x:auto;line-height:normal;font-family:Menlo,'DejaVu Sans Mono',consolas,'Courier New',monospace\"><span style=\"font-weight: bold\"> Trainable params: </span><span style=\"color: #00af00; text-decoration-color: #00af00\">51,361</span> (200.63 KB)\n",
       "</pre>\n"
      ],
      "text/plain": [
       "\u001b[1m Trainable params: \u001b[0m\u001b[38;5;34m51,361\u001b[0m (200.63 KB)\n"
      ]
     },
     "metadata": {},
     "output_type": "display_data"
    },
    {
     "data": {
      "text/html": [
       "<pre style=\"white-space:pre;overflow-x:auto;line-height:normal;font-family:Menlo,'DejaVu Sans Mono',consolas,'Courier New',monospace\"><span style=\"font-weight: bold\"> Non-trainable params: </span><span style=\"color: #00af00; text-decoration-color: #00af00\">0</span> (0.00 B)\n",
       "</pre>\n"
      ],
      "text/plain": [
       "\u001b[1m Non-trainable params: \u001b[0m\u001b[38;5;34m0\u001b[0m (0.00 B)\n"
      ]
     },
     "metadata": {},
     "output_type": "display_data"
    }
   ],
   "source": [
    "model = Sequential()\n",
    "\n",
    "## couches cachées\n",
    "model.add(Dense(160, input_dim = 10, activation='relu'))\n",
    "model.add(Dropout(0,3))\n",
    "model.add(Dense(128, activation='relu'))\n",
    "model.add(Dropout(0,3))\n",
    "model.add(Dense(128, activation='relu'))\n",
    "model.add(Dropout(0,3))\n",
    "model.add(Dense(96, activation='relu'))\n",
    "model.add(Dropout(0,2))\n",
    "## couche de sortie\n",
    "model.add(Dense(1, activation = 'linear'))\n",
    "\n",
    "\n",
    "model.summary()"
   ]
  },
  {
   "cell_type": "code",
   "execution_count": 373,
   "metadata": {},
   "outputs": [],
   "source": [
    "model.compile(optimizer=optimizers.Adam(learning_rate=3e-4), loss = 'mean_absolute_percentage_error', metrics=[metrics.RootMeanSquaredError()])"
   ]
  },
  {
   "cell_type": "code",
   "execution_count": 374,
   "metadata": {},
   "outputs": [],
   "source": [
    "from tensorflow.keras.callbacks import EarlyStopping\n",
    "\n",
    "callback = EarlyStopping(monitor='val_root_mean_squared_error', patience=20, verbose=1, start_from_epoch=100, restore_best_weights=True)"
   ]
  },
  {
   "cell_type": "markdown",
   "metadata": {},
   "source": [
    "Entraînement"
   ]
  },
  {
   "cell_type": "code",
   "execution_count": 375,
   "metadata": {},
   "outputs": [
    {
     "name": "stdout",
     "output_type": "stream",
     "text": [
      "Epoch 1/300\n",
      "\u001b[1m381/381\u001b[0m \u001b[32m━━━━━━━━━━━━━━━━━━━━\u001b[0m\u001b[37m\u001b[0m \u001b[1m2s\u001b[0m 2ms/step - loss: 175.1742 - root_mean_squared_error: 0.9751 - val_loss: 149.9398 - val_root_mean_squared_error: 0.9696\n",
      "Epoch 2/300\n",
      "\u001b[1m381/381\u001b[0m \u001b[32m━━━━━━━━━━━━━━━━━━━━\u001b[0m\u001b[37m\u001b[0m \u001b[1m1s\u001b[0m 2ms/step - loss: 152.8095 - root_mean_squared_error: 0.9660 - val_loss: 123.9013 - val_root_mean_squared_error: 0.9829\n",
      "Epoch 3/300\n",
      "\u001b[1m381/381\u001b[0m \u001b[32m━━━━━━━━━━━━━━━━━━━━\u001b[0m\u001b[37m\u001b[0m \u001b[1m1s\u001b[0m 2ms/step - loss: 123.2980 - root_mean_squared_error: 0.9869 - val_loss: 108.8924 - val_root_mean_squared_error: 0.9939\n",
      "Epoch 4/300\n",
      "\u001b[1m381/381\u001b[0m \u001b[32m━━━━━━━━━━━━━━━━━━━━\u001b[0m\u001b[37m\u001b[0m \u001b[1m1s\u001b[0m 2ms/step - loss: 118.2491 - root_mean_squared_error: 0.9815 - val_loss: 113.4577 - val_root_mean_squared_error: 0.9734\n",
      "Epoch 5/300\n",
      "\u001b[1m381/381\u001b[0m \u001b[32m━━━━━━━━━━━━━━━━━━━━\u001b[0m\u001b[37m\u001b[0m \u001b[1m1s\u001b[0m 2ms/step - loss: 107.8434 - root_mean_squared_error: 0.9651 - val_loss: 105.5739 - val_root_mean_squared_error: 0.9413\n",
      "Epoch 6/300\n",
      "\u001b[1m381/381\u001b[0m \u001b[32m━━━━━━━━━━━━━━━━━━━━\u001b[0m\u001b[37m\u001b[0m \u001b[1m1s\u001b[0m 2ms/step - loss: 105.6734 - root_mean_squared_error: 0.9099 - val_loss: 91.8528 - val_root_mean_squared_error: 0.8126\n",
      "Epoch 7/300\n",
      "\u001b[1m381/381\u001b[0m \u001b[32m━━━━━━━━━━━━━━━━━━━━\u001b[0m\u001b[37m\u001b[0m \u001b[1m1s\u001b[0m 2ms/step - loss: 96.5031 - root_mean_squared_error: 0.8155 - val_loss: 95.4686 - val_root_mean_squared_error: 0.8040\n",
      "Epoch 8/300\n",
      "\u001b[1m381/381\u001b[0m \u001b[32m━━━━━━━━━━━━━━━━━━━━\u001b[0m\u001b[37m\u001b[0m \u001b[1m1s\u001b[0m 2ms/step - loss: 93.3555 - root_mean_squared_error: 0.8036 - val_loss: 91.5581 - val_root_mean_squared_error: 0.8073\n",
      "Epoch 9/300\n",
      "\u001b[1m381/381\u001b[0m \u001b[32m━━━━━━━━━━━━━━━━━━━━\u001b[0m\u001b[37m\u001b[0m \u001b[1m1s\u001b[0m 2ms/step - loss: 90.4286 - root_mean_squared_error: 0.8019 - val_loss: 93.5670 - val_root_mean_squared_error: 0.7981\n",
      "Epoch 10/300\n",
      "\u001b[1m381/381\u001b[0m \u001b[32m━━━━━━━━━━━━━━━━━━━━\u001b[0m\u001b[37m\u001b[0m \u001b[1m1s\u001b[0m 3ms/step - loss: 92.4675 - root_mean_squared_error: 0.7957 - val_loss: 89.5805 - val_root_mean_squared_error: 0.7297\n",
      "Epoch 11/300\n",
      "\u001b[1m381/381\u001b[0m \u001b[32m━━━━━━━━━━━━━━━━━━━━\u001b[0m\u001b[37m\u001b[0m \u001b[1m1s\u001b[0m 2ms/step - loss: 84.3357 - root_mean_squared_error: 0.7524 - val_loss: 100.5430 - val_root_mean_squared_error: 0.7270\n",
      "Epoch 12/300\n",
      "\u001b[1m381/381\u001b[0m \u001b[32m━━━━━━━━━━━━━━━━━━━━\u001b[0m\u001b[37m\u001b[0m \u001b[1m1s\u001b[0m 2ms/step - loss: 85.1826 - root_mean_squared_error: 0.7613 - val_loss: 96.2300 - val_root_mean_squared_error: 0.7529\n",
      "Epoch 13/300\n",
      "\u001b[1m381/381\u001b[0m \u001b[32m━━━━━━━━━━━━━━━━━━━━\u001b[0m\u001b[37m\u001b[0m \u001b[1m1s\u001b[0m 2ms/step - loss: 87.3338 - root_mean_squared_error: 0.7587 - val_loss: 88.7755 - val_root_mean_squared_error: 0.8210\n",
      "Epoch 14/300\n",
      "\u001b[1m381/381\u001b[0m \u001b[32m━━━━━━━━━━━━━━━━━━━━\u001b[0m\u001b[37m\u001b[0m \u001b[1m1s\u001b[0m 2ms/step - loss: 87.5657 - root_mean_squared_error: 0.8177 - val_loss: 89.1664 - val_root_mean_squared_error: 0.7420\n",
      "Epoch 15/300\n",
      "\u001b[1m381/381\u001b[0m \u001b[32m━━━━━━━━━━━━━━━━━━━━\u001b[0m\u001b[37m\u001b[0m \u001b[1m1s\u001b[0m 2ms/step - loss: 80.2392 - root_mean_squared_error: 0.7516 - val_loss: 122.6896 - val_root_mean_squared_error: 0.7232\n",
      "Epoch 16/300\n",
      "\u001b[1m381/381\u001b[0m \u001b[32m━━━━━━━━━━━━━━━━━━━━\u001b[0m\u001b[37m\u001b[0m \u001b[1m1s\u001b[0m 2ms/step - loss: 80.5077 - root_mean_squared_error: 0.7464 - val_loss: 107.8220 - val_root_mean_squared_error: 0.7306\n",
      "Epoch 17/300\n",
      "\u001b[1m381/381\u001b[0m \u001b[32m━━━━━━━━━━━━━━━━━━━━\u001b[0m\u001b[37m\u001b[0m \u001b[1m1s\u001b[0m 2ms/step - loss: 79.2885 - root_mean_squared_error: 0.7430 - val_loss: 78.4115 - val_root_mean_squared_error: 0.7359\n",
      "Epoch 18/300\n",
      "\u001b[1m381/381\u001b[0m \u001b[32m━━━━━━━━━━━━━━━━━━━━\u001b[0m\u001b[37m\u001b[0m \u001b[1m1s\u001b[0m 2ms/step - loss: 80.3178 - root_mean_squared_error: 0.7448 - val_loss: 110.3852 - val_root_mean_squared_error: 0.7127\n",
      "Epoch 19/300\n",
      "\u001b[1m381/381\u001b[0m \u001b[32m━━━━━━━━━━━━━━━━━━━━\u001b[0m\u001b[37m\u001b[0m \u001b[1m1s\u001b[0m 2ms/step - loss: 77.1535 - root_mean_squared_error: 0.7366 - val_loss: 93.7611 - val_root_mean_squared_error: 0.7230\n",
      "Epoch 20/300\n",
      "\u001b[1m381/381\u001b[0m \u001b[32m━━━━━━━━━━━━━━━━━━━━\u001b[0m\u001b[37m\u001b[0m \u001b[1m1s\u001b[0m 2ms/step - loss: 77.3374 - root_mean_squared_error: 0.7308 - val_loss: 99.3331 - val_root_mean_squared_error: 0.7594\n",
      "Epoch 21/300\n",
      "\u001b[1m381/381\u001b[0m \u001b[32m━━━━━━━━━━━━━━━━━━━━\u001b[0m\u001b[37m\u001b[0m \u001b[1m1s\u001b[0m 2ms/step - loss: 80.3727 - root_mean_squared_error: 0.7610 - val_loss: 127.7011 - val_root_mean_squared_error: 0.7257\n",
      "Epoch 22/300\n",
      "\u001b[1m381/381\u001b[0m \u001b[32m━━━━━━━━━━━━━━━━━━━━\u001b[0m\u001b[37m\u001b[0m \u001b[1m1s\u001b[0m 2ms/step - loss: 80.9754 - root_mean_squared_error: 0.7666 - val_loss: 82.5637 - val_root_mean_squared_error: 0.7346\n",
      "Epoch 23/300\n",
      "\u001b[1m381/381\u001b[0m \u001b[32m━━━━━━━━━━━━━━━━━━━━\u001b[0m\u001b[37m\u001b[0m \u001b[1m1s\u001b[0m 2ms/step - loss: 78.2483 - root_mean_squared_error: 0.7584 - val_loss: 102.1808 - val_root_mean_squared_error: 0.7220\n",
      "Epoch 24/300\n",
      "\u001b[1m381/381\u001b[0m \u001b[32m━━━━━━━━━━━━━━━━━━━━\u001b[0m\u001b[37m\u001b[0m \u001b[1m1s\u001b[0m 2ms/step - loss: 77.6625 - root_mean_squared_error: 0.7456 - val_loss: 101.1992 - val_root_mean_squared_error: 0.7323\n",
      "Epoch 25/300\n",
      "\u001b[1m381/381\u001b[0m \u001b[32m━━━━━━━━━━━━━━━━━━━━\u001b[0m\u001b[37m\u001b[0m \u001b[1m1s\u001b[0m 2ms/step - loss: 78.3254 - root_mean_squared_error: 0.7501 - val_loss: 78.2421 - val_root_mean_squared_error: 0.7224\n",
      "Epoch 26/300\n",
      "\u001b[1m381/381\u001b[0m \u001b[32m━━━━━━━━━━━━━━━━━━━━\u001b[0m\u001b[37m\u001b[0m \u001b[1m1s\u001b[0m 2ms/step - loss: 77.6856 - root_mean_squared_error: 0.7158 - val_loss: 118.5898 - val_root_mean_squared_error: 0.6787\n",
      "Epoch 27/300\n",
      "\u001b[1m381/381\u001b[0m \u001b[32m━━━━━━━━━━━━━━━━━━━━\u001b[0m\u001b[37m\u001b[0m \u001b[1m1s\u001b[0m 2ms/step - loss: 75.2560 - root_mean_squared_error: 0.6548 - val_loss: 108.7764 - val_root_mean_squared_error: 0.5623\n",
      "Epoch 28/300\n",
      "\u001b[1m381/381\u001b[0m \u001b[32m━━━━━━━━━━━━━━━━━━━━\u001b[0m\u001b[37m\u001b[0m \u001b[1m1s\u001b[0m 2ms/step - loss: 67.7695 - root_mean_squared_error: 0.5704 - val_loss: 79.0143 - val_root_mean_squared_error: 0.6232\n",
      "Epoch 29/300\n",
      "\u001b[1m381/381\u001b[0m \u001b[32m━━━━━━━━━━━━━━━━━━━━\u001b[0m\u001b[37m\u001b[0m \u001b[1m1s\u001b[0m 2ms/step - loss: 69.9451 - root_mean_squared_error: 0.6020 - val_loss: 106.2514 - val_root_mean_squared_error: 0.5738\n",
      "Epoch 30/300\n",
      "\u001b[1m381/381\u001b[0m \u001b[32m━━━━━━━━━━━━━━━━━━━━\u001b[0m\u001b[37m\u001b[0m \u001b[1m1s\u001b[0m 2ms/step - loss: 73.0858 - root_mean_squared_error: 0.6059 - val_loss: 68.0278 - val_root_mean_squared_error: 0.5158\n",
      "Epoch 31/300\n",
      "\u001b[1m381/381\u001b[0m \u001b[32m━━━━━━━━━━━━━━━━━━━━\u001b[0m\u001b[37m\u001b[0m \u001b[1m1s\u001b[0m 2ms/step - loss: 64.7433 - root_mean_squared_error: 0.5509 - val_loss: 71.5394 - val_root_mean_squared_error: 0.6497\n",
      "Epoch 32/300\n",
      "\u001b[1m381/381\u001b[0m \u001b[32m━━━━━━━━━━━━━━━━━━━━\u001b[0m\u001b[37m\u001b[0m \u001b[1m1s\u001b[0m 2ms/step - loss: 68.8628 - root_mean_squared_error: 0.6147 - val_loss: 91.0483 - val_root_mean_squared_error: 0.5903\n",
      "Epoch 33/300\n",
      "\u001b[1m381/381\u001b[0m \u001b[32m━━━━━━━━━━━━━━━━━━━━\u001b[0m\u001b[37m\u001b[0m \u001b[1m1s\u001b[0m 2ms/step - loss: 67.8539 - root_mean_squared_error: 0.5922 - val_loss: 80.3589 - val_root_mean_squared_error: 0.5216\n",
      "Epoch 34/300\n",
      "\u001b[1m381/381\u001b[0m \u001b[32m━━━━━━━━━━━━━━━━━━━━\u001b[0m\u001b[37m\u001b[0m \u001b[1m1s\u001b[0m 2ms/step - loss: 65.3338 - root_mean_squared_error: 0.5322 - val_loss: 92.0045 - val_root_mean_squared_error: 0.5228\n",
      "Epoch 35/300\n",
      "\u001b[1m381/381\u001b[0m \u001b[32m━━━━━━━━━━━━━━━━━━━━\u001b[0m\u001b[37m\u001b[0m \u001b[1m1s\u001b[0m 2ms/step - loss: 65.6262 - root_mean_squared_error: 0.5485 - val_loss: 102.0280 - val_root_mean_squared_error: 0.5008\n",
      "Epoch 36/300\n",
      "\u001b[1m381/381\u001b[0m \u001b[32m━━━━━━━━━━━━━━━━━━━━\u001b[0m\u001b[37m\u001b[0m \u001b[1m1s\u001b[0m 2ms/step - loss: 62.7797 - root_mean_squared_error: 0.5168 - val_loss: 91.6356 - val_root_mean_squared_error: 0.4626\n",
      "Epoch 37/300\n",
      "\u001b[1m381/381\u001b[0m \u001b[32m━━━━━━━━━━━━━━━━━━━━\u001b[0m\u001b[37m\u001b[0m \u001b[1m1s\u001b[0m 3ms/step - loss: 61.2627 - root_mean_squared_error: 0.4873 - val_loss: 101.0579 - val_root_mean_squared_error: 0.4625\n",
      "Epoch 38/300\n",
      "\u001b[1m381/381\u001b[0m \u001b[32m━━━━━━━━━━━━━━━━━━━━\u001b[0m\u001b[37m\u001b[0m \u001b[1m1s\u001b[0m 2ms/step - loss: 61.1542 - root_mean_squared_error: 0.4757 - val_loss: 93.5119 - val_root_mean_squared_error: 0.5237\n",
      "Epoch 39/300\n",
      "\u001b[1m381/381\u001b[0m \u001b[32m━━━━━━━━━━━━━━━━━━━━\u001b[0m\u001b[37m\u001b[0m \u001b[1m1s\u001b[0m 2ms/step - loss: 63.3184 - root_mean_squared_error: 0.5153 - val_loss: 109.1122 - val_root_mean_squared_error: 0.4947\n",
      "Epoch 40/300\n",
      "\u001b[1m381/381\u001b[0m \u001b[32m━━━━━━━━━━━━━━━━━━━━\u001b[0m\u001b[37m\u001b[0m \u001b[1m1s\u001b[0m 2ms/step - loss: 62.2128 - root_mean_squared_error: 0.4831 - val_loss: 111.8637 - val_root_mean_squared_error: 0.5628\n",
      "Epoch 41/300\n",
      "\u001b[1m381/381\u001b[0m \u001b[32m━━━━━━━━━━━━━━━━━━━━\u001b[0m\u001b[37m\u001b[0m \u001b[1m1s\u001b[0m 2ms/step - loss: 65.0071 - root_mean_squared_error: 0.5748 - val_loss: 86.6592 - val_root_mean_squared_error: 0.4946\n",
      "Epoch 42/300\n",
      "\u001b[1m381/381\u001b[0m \u001b[32m━━━━━━━━━━━━━━━━━━━━\u001b[0m\u001b[37m\u001b[0m \u001b[1m1s\u001b[0m 2ms/step - loss: 66.2102 - root_mean_squared_error: 0.5287 - val_loss: 89.5649 - val_root_mean_squared_error: 0.4701\n",
      "Epoch 43/300\n",
      "\u001b[1m381/381\u001b[0m \u001b[32m━━━━━━━━━━━━━━━━━━━━\u001b[0m\u001b[37m\u001b[0m \u001b[1m1s\u001b[0m 3ms/step - loss: 67.6352 - root_mean_squared_error: 0.5592 - val_loss: 99.6745 - val_root_mean_squared_error: 0.4656\n",
      "Epoch 44/300\n",
      "\u001b[1m381/381\u001b[0m \u001b[32m━━━━━━━━━━━━━━━━━━━━\u001b[0m\u001b[37m\u001b[0m \u001b[1m1s\u001b[0m 2ms/step - loss: 57.6735 - root_mean_squared_error: 0.4682 - val_loss: 64.5911 - val_root_mean_squared_error: 0.4587\n",
      "Epoch 45/300\n",
      "\u001b[1m381/381\u001b[0m \u001b[32m━━━━━━━━━━━━━━━━━━━━\u001b[0m\u001b[37m\u001b[0m \u001b[1m1s\u001b[0m 2ms/step - loss: 59.4950 - root_mean_squared_error: 0.4789 - val_loss: 95.1167 - val_root_mean_squared_error: 0.4859\n",
      "Epoch 46/300\n",
      "\u001b[1m381/381\u001b[0m \u001b[32m━━━━━━━━━━━━━━━━━━━━\u001b[0m\u001b[37m\u001b[0m \u001b[1m1s\u001b[0m 3ms/step - loss: 59.3926 - root_mean_squared_error: 0.4993 - val_loss: 88.9069 - val_root_mean_squared_error: 0.4920\n",
      "Epoch 47/300\n",
      "\u001b[1m381/381\u001b[0m \u001b[32m━━━━━━━━━━━━━━━━━━━━\u001b[0m\u001b[37m\u001b[0m \u001b[1m1s\u001b[0m 2ms/step - loss: 61.2757 - root_mean_squared_error: 0.4989 - val_loss: 88.8158 - val_root_mean_squared_error: 0.4728\n",
      "Epoch 48/300\n",
      "\u001b[1m381/381\u001b[0m \u001b[32m━━━━━━━━━━━━━━━━━━━━\u001b[0m\u001b[37m\u001b[0m \u001b[1m1s\u001b[0m 2ms/step - loss: 60.0252 - root_mean_squared_error: 0.4827 - val_loss: 88.2768 - val_root_mean_squared_error: 0.4589\n",
      "Epoch 49/300\n",
      "\u001b[1m381/381\u001b[0m \u001b[32m━━━━━━━━━━━━━━━━━━━━\u001b[0m\u001b[37m\u001b[0m \u001b[1m1s\u001b[0m 2ms/step - loss: 58.1536 - root_mean_squared_error: 0.4588 - val_loss: 84.6628 - val_root_mean_squared_error: 0.5597\n",
      "Epoch 50/300\n",
      "\u001b[1m381/381\u001b[0m \u001b[32m━━━━━━━━━━━━━━━━━━━━\u001b[0m\u001b[37m\u001b[0m \u001b[1m1s\u001b[0m 2ms/step - loss: 60.6458 - root_mean_squared_error: 0.5452 - val_loss: 110.6073 - val_root_mean_squared_error: 0.4537\n",
      "Epoch 51/300\n",
      "\u001b[1m381/381\u001b[0m \u001b[32m━━━━━━━━━━━━━━━━━━━━\u001b[0m\u001b[37m\u001b[0m \u001b[1m1s\u001b[0m 3ms/step - loss: 59.7263 - root_mean_squared_error: 0.4829 - val_loss: 101.6349 - val_root_mean_squared_error: 0.5034\n",
      "Epoch 52/300\n",
      "\u001b[1m381/381\u001b[0m \u001b[32m━━━━━━━━━━━━━━━━━━━━\u001b[0m\u001b[37m\u001b[0m \u001b[1m1s\u001b[0m 3ms/step - loss: 59.5981 - root_mean_squared_error: 0.4969 - val_loss: 70.4544 - val_root_mean_squared_error: 0.4758\n",
      "Epoch 53/300\n",
      "\u001b[1m381/381\u001b[0m \u001b[32m━━━━━━━━━━━━━━━━━━━━\u001b[0m\u001b[37m\u001b[0m \u001b[1m1s\u001b[0m 2ms/step - loss: 61.0690 - root_mean_squared_error: 0.5236 - val_loss: 81.6107 - val_root_mean_squared_error: 0.4701\n",
      "Epoch 54/300\n",
      "\u001b[1m381/381\u001b[0m \u001b[32m━━━━━━━━━━━━━━━━━━━━\u001b[0m\u001b[37m\u001b[0m \u001b[1m1s\u001b[0m 3ms/step - loss: 59.3560 - root_mean_squared_error: 0.4654 - val_loss: 100.8530 - val_root_mean_squared_error: 0.5374\n",
      "Epoch 55/300\n",
      "\u001b[1m381/381\u001b[0m \u001b[32m━━━━━━━━━━━━━━━━━━━━\u001b[0m\u001b[37m\u001b[0m \u001b[1m1s\u001b[0m 2ms/step - loss: 61.8225 - root_mean_squared_error: 0.5354 - val_loss: 90.6809 - val_root_mean_squared_error: 0.5267\n",
      "Epoch 56/300\n",
      "\u001b[1m381/381\u001b[0m \u001b[32m━━━━━━━━━━━━━━━━━━━━\u001b[0m\u001b[37m\u001b[0m \u001b[1m1s\u001b[0m 2ms/step - loss: 59.2917 - root_mean_squared_error: 0.5109 - val_loss: 126.1688 - val_root_mean_squared_error: 0.7720\n",
      "Epoch 57/300\n",
      "\u001b[1m381/381\u001b[0m \u001b[32m━━━━━━━━━━━━━━━━━━━━\u001b[0m\u001b[37m\u001b[0m \u001b[1m1s\u001b[0m 2ms/step - loss: 98.7742 - root_mean_squared_error: 0.5102 - val_loss: 129.9959 - val_root_mean_squared_error: 0.3916\n",
      "Epoch 58/300\n",
      "\u001b[1m381/381\u001b[0m \u001b[32m━━━━━━━━━━━━━━━━━━━━\u001b[0m\u001b[37m\u001b[0m \u001b[1m1s\u001b[0m 2ms/step - loss: 61.9339 - root_mean_squared_error: 0.4742 - val_loss: 64.9736 - val_root_mean_squared_error: 0.5657\n",
      "Epoch 59/300\n",
      "\u001b[1m381/381\u001b[0m \u001b[32m━━━━━━━━━━━━━━━━━━━━\u001b[0m\u001b[37m\u001b[0m \u001b[1m1s\u001b[0m 2ms/step - loss: 62.5960 - root_mean_squared_error: 0.5567 - val_loss: 68.5104 - val_root_mean_squared_error: 0.4714\n",
      "Epoch 60/300\n",
      "\u001b[1m381/381\u001b[0m \u001b[32m━━━━━━━━━━━━━━━━━━━━\u001b[0m\u001b[37m\u001b[0m \u001b[1m1s\u001b[0m 2ms/step - loss: 59.2907 - root_mean_squared_error: 0.4793 - val_loss: 94.8998 - val_root_mean_squared_error: 0.4162\n",
      "Epoch 61/300\n",
      "\u001b[1m381/381\u001b[0m \u001b[32m━━━━━━━━━━━━━━━━━━━━\u001b[0m\u001b[37m\u001b[0m \u001b[1m1s\u001b[0m 3ms/step - loss: 54.5698 - root_mean_squared_error: 0.4370 - val_loss: 109.1485 - val_root_mean_squared_error: 0.4334\n",
      "Epoch 62/300\n",
      "\u001b[1m381/381\u001b[0m \u001b[32m━━━━━━━━━━━━━━━━━━━━\u001b[0m\u001b[37m\u001b[0m \u001b[1m1s\u001b[0m 3ms/step - loss: 55.7229 - root_mean_squared_error: 0.4503 - val_loss: 86.9649 - val_root_mean_squared_error: 0.4191\n",
      "Epoch 63/300\n",
      "\u001b[1m381/381\u001b[0m \u001b[32m━━━━━━━━━━━━━━━━━━━━\u001b[0m\u001b[37m\u001b[0m \u001b[1m1s\u001b[0m 3ms/step - loss: 56.3894 - root_mean_squared_error: 0.4260 - val_loss: 74.9278 - val_root_mean_squared_error: 0.4021\n",
      "Epoch 64/300\n",
      "\u001b[1m381/381\u001b[0m \u001b[32m━━━━━━━━━━━━━━━━━━━━\u001b[0m\u001b[37m\u001b[0m \u001b[1m1s\u001b[0m 2ms/step - loss: 59.7492 - root_mean_squared_error: 0.4272 - val_loss: 79.0782 - val_root_mean_squared_error: 0.4564\n",
      "Epoch 65/300\n",
      "\u001b[1m381/381\u001b[0m \u001b[32m━━━━━━━━━━━━━━━━━━━━\u001b[0m\u001b[37m\u001b[0m \u001b[1m1s\u001b[0m 3ms/step - loss: 58.3974 - root_mean_squared_error: 0.4538 - val_loss: 84.8845 - val_root_mean_squared_error: 0.4717\n",
      "Epoch 66/300\n",
      "\u001b[1m381/381\u001b[0m \u001b[32m━━━━━━━━━━━━━━━━━━━━\u001b[0m\u001b[37m\u001b[0m \u001b[1m1s\u001b[0m 2ms/step - loss: 55.9753 - root_mean_squared_error: 0.4603 - val_loss: 112.5377 - val_root_mean_squared_error: 0.4036\n",
      "Epoch 67/300\n",
      "\u001b[1m381/381\u001b[0m \u001b[32m━━━━━━━━━━━━━━━━━━━━\u001b[0m\u001b[37m\u001b[0m \u001b[1m1s\u001b[0m 2ms/step - loss: 54.6518 - root_mean_squared_error: 0.4183 - val_loss: 93.3914 - val_root_mean_squared_error: 0.4697\n",
      "Epoch 68/300\n",
      "\u001b[1m381/381\u001b[0m \u001b[32m━━━━━━━━━━━━━━━━━━━━\u001b[0m\u001b[37m\u001b[0m \u001b[1m1s\u001b[0m 2ms/step - loss: 56.6811 - root_mean_squared_error: 0.4575 - val_loss: 77.2740 - val_root_mean_squared_error: 0.4480\n",
      "Epoch 69/300\n",
      "\u001b[1m381/381\u001b[0m \u001b[32m━━━━━━━━━━━━━━━━━━━━\u001b[0m\u001b[37m\u001b[0m \u001b[1m1s\u001b[0m 3ms/step - loss: 59.0789 - root_mean_squared_error: 0.4562 - val_loss: 95.7634 - val_root_mean_squared_error: 0.4120\n",
      "Epoch 70/300\n",
      "\u001b[1m381/381\u001b[0m \u001b[32m━━━━━━━━━━━━━━━━━━━━\u001b[0m\u001b[37m\u001b[0m \u001b[1m1s\u001b[0m 2ms/step - loss: 66.5271 - root_mean_squared_error: 0.4854 - val_loss: 97.7902 - val_root_mean_squared_error: 0.5105\n",
      "Epoch 71/300\n",
      "\u001b[1m381/381\u001b[0m \u001b[32m━━━━━━━━━━━━━━━━━━━━\u001b[0m\u001b[37m\u001b[0m \u001b[1m1s\u001b[0m 3ms/step - loss: 61.6364 - root_mean_squared_error: 0.5256 - val_loss: 89.8332 - val_root_mean_squared_error: 0.5164\n",
      "Epoch 72/300\n",
      "\u001b[1m381/381\u001b[0m \u001b[32m━━━━━━━━━━━━━━━━━━━━\u001b[0m\u001b[37m\u001b[0m \u001b[1m1s\u001b[0m 3ms/step - loss: 59.3150 - root_mean_squared_error: 0.5139 - val_loss: 90.4115 - val_root_mean_squared_error: 0.4505\n",
      "Epoch 73/300\n",
      "\u001b[1m381/381\u001b[0m \u001b[32m━━━━━━━━━━━━━━━━━━━━\u001b[0m\u001b[37m\u001b[0m \u001b[1m1s\u001b[0m 2ms/step - loss: 57.8906 - root_mean_squared_error: 0.4667 - val_loss: 106.1283 - val_root_mean_squared_error: 0.4162\n",
      "Epoch 74/300\n",
      "\u001b[1m381/381\u001b[0m \u001b[32m━━━━━━━━━━━━━━━━━━━━\u001b[0m\u001b[37m\u001b[0m \u001b[1m1s\u001b[0m 3ms/step - loss: 54.5146 - root_mean_squared_error: 0.4280 - val_loss: 112.1796 - val_root_mean_squared_error: 0.3933\n",
      "Epoch 75/300\n",
      "\u001b[1m381/381\u001b[0m \u001b[32m━━━━━━━━━━━━━━━━━━━━\u001b[0m\u001b[37m\u001b[0m \u001b[1m1s\u001b[0m 3ms/step - loss: 55.6771 - root_mean_squared_error: 0.4187 - val_loss: 108.6954 - val_root_mean_squared_error: 0.3813\n",
      "Epoch 76/300\n",
      "\u001b[1m381/381\u001b[0m \u001b[32m━━━━━━━━━━━━━━━━━━━━\u001b[0m\u001b[37m\u001b[0m \u001b[1m1s\u001b[0m 3ms/step - loss: 55.3145 - root_mean_squared_error: 0.4277 - val_loss: 104.5342 - val_root_mean_squared_error: 0.4390\n",
      "Epoch 77/300\n",
      "\u001b[1m381/381\u001b[0m \u001b[32m━━━━━━━━━━━━━━━━━━━━\u001b[0m\u001b[37m\u001b[0m \u001b[1m1s\u001b[0m 4ms/step - loss: 58.0919 - root_mean_squared_error: 0.4763 - val_loss: 110.8281 - val_root_mean_squared_error: 0.4253\n",
      "Epoch 78/300\n",
      "\u001b[1m381/381\u001b[0m \u001b[32m━━━━━━━━━━━━━━━━━━━━\u001b[0m\u001b[37m\u001b[0m \u001b[1m1s\u001b[0m 3ms/step - loss: 53.7055 - root_mean_squared_error: 0.4315 - val_loss: 93.4941 - val_root_mean_squared_error: 0.4147\n",
      "Epoch 79/300\n",
      "\u001b[1m381/381\u001b[0m \u001b[32m━━━━━━━━━━━━━━━━━━━━\u001b[0m\u001b[37m\u001b[0m \u001b[1m1s\u001b[0m 2ms/step - loss: 56.2152 - root_mean_squared_error: 0.4424 - val_loss: 89.5908 - val_root_mean_squared_error: 0.4970\n",
      "Epoch 80/300\n",
      "\u001b[1m381/381\u001b[0m \u001b[32m━━━━━━━━━━━━━━━━━━━━\u001b[0m\u001b[37m\u001b[0m \u001b[1m1s\u001b[0m 3ms/step - loss: 58.3940 - root_mean_squared_error: 0.4691 - val_loss: 87.4962 - val_root_mean_squared_error: 0.8828\n",
      "Epoch 81/300\n",
      "\u001b[1m381/381\u001b[0m \u001b[32m━━━━━━━━━━━━━━━━━━━━\u001b[0m\u001b[37m\u001b[0m \u001b[1m1s\u001b[0m 2ms/step - loss: 72.1134 - root_mean_squared_error: 0.7039 - val_loss: 75.8280 - val_root_mean_squared_error: 0.5460\n",
      "Epoch 82/300\n",
      "\u001b[1m381/381\u001b[0m \u001b[32m━━━━━━━━━━━━━━━━━━━━\u001b[0m\u001b[37m\u001b[0m \u001b[1m1s\u001b[0m 2ms/step - loss: 62.4663 - root_mean_squared_error: 0.5405 - val_loss: 98.7103 - val_root_mean_squared_error: 0.4253\n",
      "Epoch 83/300\n",
      "\u001b[1m381/381\u001b[0m \u001b[32m━━━━━━━━━━━━━━━━━━━━\u001b[0m\u001b[37m\u001b[0m \u001b[1m1s\u001b[0m 2ms/step - loss: 60.8710 - root_mean_squared_error: 0.4781 - val_loss: 88.1158 - val_root_mean_squared_error: 0.4722\n",
      "Epoch 84/300\n",
      "\u001b[1m381/381\u001b[0m \u001b[32m━━━━━━━━━━━━━━━━━━━━\u001b[0m\u001b[37m\u001b[0m \u001b[1m1s\u001b[0m 2ms/step - loss: 57.0569 - root_mean_squared_error: 0.4432 - val_loss: 96.3372 - val_root_mean_squared_error: 0.4149\n",
      "Epoch 85/300\n",
      "\u001b[1m381/381\u001b[0m \u001b[32m━━━━━━━━━━━━━━━━━━━━\u001b[0m\u001b[37m\u001b[0m \u001b[1m1s\u001b[0m 2ms/step - loss: 55.0746 - root_mean_squared_error: 0.4296 - val_loss: 112.3343 - val_root_mean_squared_error: 0.3904\n",
      "Epoch 86/300\n",
      "\u001b[1m381/381\u001b[0m \u001b[32m━━━━━━━━━━━━━━━━━━━━\u001b[0m\u001b[37m\u001b[0m \u001b[1m1s\u001b[0m 2ms/step - loss: 54.4704 - root_mean_squared_error: 0.4147 - val_loss: 100.4512 - val_root_mean_squared_error: 0.4059\n",
      "Epoch 87/300\n",
      "\u001b[1m381/381\u001b[0m \u001b[32m━━━━━━━━━━━━━━━━━━━━\u001b[0m\u001b[37m\u001b[0m \u001b[1m1s\u001b[0m 2ms/step - loss: 52.3497 - root_mean_squared_error: 0.4046 - val_loss: 116.4672 - val_root_mean_squared_error: 0.3847\n",
      "Epoch 88/300\n",
      "\u001b[1m381/381\u001b[0m \u001b[32m━━━━━━━━━━━━━━━━━━━━\u001b[0m\u001b[37m\u001b[0m \u001b[1m1s\u001b[0m 2ms/step - loss: 55.7911 - root_mean_squared_error: 0.4456 - val_loss: 103.9075 - val_root_mean_squared_error: 0.4286\n",
      "Epoch 89/300\n",
      "\u001b[1m381/381\u001b[0m \u001b[32m━━━━━━━━━━━━━━━━━━━━\u001b[0m\u001b[37m\u001b[0m \u001b[1m1s\u001b[0m 2ms/step - loss: 54.9198 - root_mean_squared_error: 0.4267 - val_loss: 99.0664 - val_root_mean_squared_error: 0.4202\n",
      "Epoch 90/300\n",
      "\u001b[1m381/381\u001b[0m \u001b[32m━━━━━━━━━━━━━━━━━━━━\u001b[0m\u001b[37m\u001b[0m \u001b[1m1s\u001b[0m 2ms/step - loss: 55.7784 - root_mean_squared_error: 0.4345 - val_loss: 123.9020 - val_root_mean_squared_error: 0.4030\n",
      "Epoch 91/300\n",
      "\u001b[1m381/381\u001b[0m \u001b[32m━━━━━━━━━━━━━━━━━━━━\u001b[0m\u001b[37m\u001b[0m \u001b[1m1s\u001b[0m 2ms/step - loss: 54.4902 - root_mean_squared_error: 0.4190 - val_loss: 108.7545 - val_root_mean_squared_error: 0.4302\n",
      "Epoch 92/300\n",
      "\u001b[1m381/381\u001b[0m \u001b[32m━━━━━━━━━━━━━━━━━━━━\u001b[0m\u001b[37m\u001b[0m \u001b[1m1s\u001b[0m 2ms/step - loss: 55.0851 - root_mean_squared_error: 0.4446 - val_loss: 119.6443 - val_root_mean_squared_error: 0.4381\n",
      "Epoch 93/300\n",
      "\u001b[1m381/381\u001b[0m \u001b[32m━━━━━━━━━━━━━━━━━━━━\u001b[0m\u001b[37m\u001b[0m \u001b[1m1s\u001b[0m 2ms/step - loss: 55.2884 - root_mean_squared_error: 0.4358 - val_loss: 109.9705 - val_root_mean_squared_error: 0.3955\n",
      "Epoch 94/300\n",
      "\u001b[1m381/381\u001b[0m \u001b[32m━━━━━━━━━━━━━━━━━━━━\u001b[0m\u001b[37m\u001b[0m \u001b[1m1s\u001b[0m 2ms/step - loss: 54.6898 - root_mean_squared_error: 0.4109 - val_loss: 103.5391 - val_root_mean_squared_error: 0.4394\n",
      "Epoch 95/300\n",
      "\u001b[1m381/381\u001b[0m \u001b[32m━━━━━━━━━━━━━━━━━━━━\u001b[0m\u001b[37m\u001b[0m \u001b[1m1s\u001b[0m 2ms/step - loss: 54.5949 - root_mean_squared_error: 0.4527 - val_loss: 83.2306 - val_root_mean_squared_error: 0.4563\n",
      "Epoch 96/300\n",
      "\u001b[1m381/381\u001b[0m \u001b[32m━━━━━━━━━━━━━━━━━━━━\u001b[0m\u001b[37m\u001b[0m \u001b[1m1s\u001b[0m 2ms/step - loss: 60.4020 - root_mean_squared_error: 0.5001 - val_loss: 114.2240 - val_root_mean_squared_error: 0.4508\n",
      "Epoch 97/300\n",
      "\u001b[1m381/381\u001b[0m \u001b[32m━━━━━━━━━━━━━━━━━━━━\u001b[0m\u001b[37m\u001b[0m \u001b[1m1s\u001b[0m 2ms/step - loss: 54.4364 - root_mean_squared_error: 0.4372 - val_loss: 114.9318 - val_root_mean_squared_error: 0.3957\n",
      "Epoch 98/300\n",
      "\u001b[1m381/381\u001b[0m \u001b[32m━━━━━━━━━━━━━━━━━━━━\u001b[0m\u001b[37m\u001b[0m \u001b[1m1s\u001b[0m 2ms/step - loss: 54.6772 - root_mean_squared_error: 0.4206 - val_loss: 131.2073 - val_root_mean_squared_error: 0.3778\n",
      "Epoch 99/300\n",
      "\u001b[1m381/381\u001b[0m \u001b[32m━━━━━━━━━━━━━━━━━━━━\u001b[0m\u001b[37m\u001b[0m \u001b[1m1s\u001b[0m 2ms/step - loss: 50.5437 - root_mean_squared_error: 0.3954 - val_loss: 139.1617 - val_root_mean_squared_error: 0.3704\n",
      "Epoch 100/300\n",
      "\u001b[1m381/381\u001b[0m \u001b[32m━━━━━━━━━━━━━━━━━━━━\u001b[0m\u001b[37m\u001b[0m \u001b[1m1s\u001b[0m 2ms/step - loss: 59.7449 - root_mean_squared_error: 0.4359 - val_loss: 139.2283 - val_root_mean_squared_error: 0.3749\n",
      "Epoch 101/300\n",
      "\u001b[1m381/381\u001b[0m \u001b[32m━━━━━━━━━━━━━━━━━━━━\u001b[0m\u001b[37m\u001b[0m \u001b[1m1s\u001b[0m 2ms/step - loss: 52.5113 - root_mean_squared_error: 0.4018 - val_loss: 122.5311 - val_root_mean_squared_error: 0.4029\n",
      "Epoch 102/300\n",
      "\u001b[1m381/381\u001b[0m \u001b[32m━━━━━━━━━━━━━━━━━━━━\u001b[0m\u001b[37m\u001b[0m \u001b[1m1s\u001b[0m 3ms/step - loss: 54.2165 - root_mean_squared_error: 0.4130 - val_loss: 119.6818 - val_root_mean_squared_error: 0.4431\n",
      "Epoch 103/300\n",
      "\u001b[1m381/381\u001b[0m \u001b[32m━━━━━━━━━━━━━━━━━━━━\u001b[0m\u001b[37m\u001b[0m \u001b[1m1s\u001b[0m 2ms/step - loss: 62.3324 - root_mean_squared_error: 0.5000 - val_loss: 88.3273 - val_root_mean_squared_error: 0.4218\n",
      "Epoch 104/300\n",
      "\u001b[1m381/381\u001b[0m \u001b[32m━━━━━━━━━━━━━━━━━━━━\u001b[0m\u001b[37m\u001b[0m \u001b[1m1s\u001b[0m 2ms/step - loss: 55.8349 - root_mean_squared_error: 0.4258 - val_loss: 103.8831 - val_root_mean_squared_error: 0.3936\n",
      "Epoch 105/300\n",
      "\u001b[1m381/381\u001b[0m \u001b[32m━━━━━━━━━━━━━━━━━━━━\u001b[0m\u001b[37m\u001b[0m \u001b[1m1s\u001b[0m 2ms/step - loss: 56.1594 - root_mean_squared_error: 0.4139 - val_loss: 118.2141 - val_root_mean_squared_error: 0.3813\n",
      "Epoch 106/300\n",
      "\u001b[1m381/381\u001b[0m \u001b[32m━━━━━━━━━━━━━━━━━━━━\u001b[0m\u001b[37m\u001b[0m \u001b[1m1s\u001b[0m 2ms/step - loss: 55.6198 - root_mean_squared_error: 0.4059 - val_loss: 73.3167 - val_root_mean_squared_error: 0.4758\n",
      "Epoch 107/300\n",
      "\u001b[1m381/381\u001b[0m \u001b[32m━━━━━━━━━━━━━━━━━━━━\u001b[0m\u001b[37m\u001b[0m \u001b[1m1s\u001b[0m 2ms/step - loss: 59.3285 - root_mean_squared_error: 0.4877 - val_loss: 97.2980 - val_root_mean_squared_error: 0.4298\n",
      "Epoch 108/300\n",
      "\u001b[1m381/381\u001b[0m \u001b[32m━━━━━━━━━━━━━━━━━━━━\u001b[0m\u001b[37m\u001b[0m \u001b[1m1s\u001b[0m 2ms/step - loss: 56.2490 - root_mean_squared_error: 0.4406 - val_loss: 111.8939 - val_root_mean_squared_error: 0.3949\n",
      "Epoch 109/300\n",
      "\u001b[1m381/381\u001b[0m \u001b[32m━━━━━━━━━━━━━━━━━━━━\u001b[0m\u001b[37m\u001b[0m \u001b[1m1s\u001b[0m 2ms/step - loss: 52.2984 - root_mean_squared_error: 0.4027 - val_loss: 112.4300 - val_root_mean_squared_error: 0.3903\n",
      "Epoch 110/300\n",
      "\u001b[1m381/381\u001b[0m \u001b[32m━━━━━━━━━━━━━━━━━━━━\u001b[0m\u001b[37m\u001b[0m \u001b[1m1s\u001b[0m 1ms/step - loss: 52.0670 - root_mean_squared_error: 0.3941 - val_loss: 100.2592 - val_root_mean_squared_error: 0.4097\n",
      "Epoch 111/300\n",
      "\u001b[1m381/381\u001b[0m \u001b[32m━━━━━━━━━━━━━━━━━━━━\u001b[0m\u001b[37m\u001b[0m \u001b[1m1s\u001b[0m 2ms/step - loss: 59.1694 - root_mean_squared_error: 0.4672 - val_loss: 118.5802 - val_root_mean_squared_error: 0.4988\n",
      "Epoch 112/300\n",
      "\u001b[1m381/381\u001b[0m \u001b[32m━━━━━━━━━━━━━━━━━━━━\u001b[0m\u001b[37m\u001b[0m \u001b[1m1s\u001b[0m 3ms/step - loss: 58.8565 - root_mean_squared_error: 0.5090 - val_loss: 110.9227 - val_root_mean_squared_error: 0.4269\n",
      "Epoch 113/300\n",
      "\u001b[1m381/381\u001b[0m \u001b[32m━━━━━━━━━━━━━━━━━━━━\u001b[0m\u001b[37m\u001b[0m \u001b[1m1s\u001b[0m 2ms/step - loss: 55.2710 - root_mean_squared_error: 0.4474 - val_loss: 116.0330 - val_root_mean_squared_error: 0.4128\n",
      "Epoch 114/300\n",
      "\u001b[1m381/381\u001b[0m \u001b[32m━━━━━━━━━━━━━━━━━━━━\u001b[0m\u001b[37m\u001b[0m \u001b[1m1s\u001b[0m 2ms/step - loss: 52.6000 - root_mean_squared_error: 0.4210 - val_loss: 126.6648 - val_root_mean_squared_error: 0.3937\n",
      "Epoch 115/300\n",
      "\u001b[1m381/381\u001b[0m \u001b[32m━━━━━━━━━━━━━━━━━━━━\u001b[0m\u001b[37m\u001b[0m \u001b[1m1s\u001b[0m 2ms/step - loss: 54.7930 - root_mean_squared_error: 0.4283 - val_loss: 122.8094 - val_root_mean_squared_error: 0.3912\n",
      "Epoch 116/300\n",
      "\u001b[1m381/381\u001b[0m \u001b[32m━━━━━━━━━━━━━━━━━━━━\u001b[0m\u001b[37m\u001b[0m \u001b[1m1s\u001b[0m 2ms/step - loss: 52.8182 - root_mean_squared_error: 0.4061 - val_loss: 120.8005 - val_root_mean_squared_error: 0.3836\n",
      "Epoch 117/300\n",
      "\u001b[1m381/381\u001b[0m \u001b[32m━━━━━━━━━━━━━━━━━━━━\u001b[0m\u001b[37m\u001b[0m \u001b[1m1s\u001b[0m 2ms/step - loss: 62.7071 - root_mean_squared_error: 0.4263 - val_loss: 138.4890 - val_root_mean_squared_error: 0.3850\n",
      "Epoch 118/300\n",
      "\u001b[1m381/381\u001b[0m \u001b[32m━━━━━━━━━━━━━━━━━━━━\u001b[0m\u001b[37m\u001b[0m \u001b[1m1s\u001b[0m 2ms/step - loss: 54.7761 - root_mean_squared_error: 0.4257 - val_loss: 92.9354 - val_root_mean_squared_error: 0.4069\n",
      "Epoch 119/300\n",
      "\u001b[1m381/381\u001b[0m \u001b[32m━━━━━━━━━━━━━━━━━━━━\u001b[0m\u001b[37m\u001b[0m \u001b[1m1s\u001b[0m 2ms/step - loss: 54.0637 - root_mean_squared_error: 0.4329 - val_loss: 119.5557 - val_root_mean_squared_error: 0.4248\n",
      "Epoch 120/300\n",
      "\u001b[1m381/381\u001b[0m \u001b[32m━━━━━━━━━━━━━━━━━━━━\u001b[0m\u001b[37m\u001b[0m \u001b[1m1s\u001b[0m 2ms/step - loss: 52.8973 - root_mean_squared_error: 0.4350 - val_loss: 114.2565 - val_root_mean_squared_error: 0.3947\n",
      "Epoch 121/300\n",
      "\u001b[1m381/381\u001b[0m \u001b[32m━━━━━━━━━━━━━━━━━━━━\u001b[0m\u001b[37m\u001b[0m \u001b[1m1s\u001b[0m 2ms/step - loss: 55.5264 - root_mean_squared_error: 0.4243 - val_loss: 70.5996 - val_root_mean_squared_error: 0.4258\n",
      "Epoch 122/300\n",
      "\u001b[1m381/381\u001b[0m \u001b[32m━━━━━━━━━━━━━━━━━━━━\u001b[0m\u001b[37m\u001b[0m \u001b[1m1s\u001b[0m 2ms/step - loss: 54.0079 - root_mean_squared_error: 0.4265 - val_loss: 70.2638 - val_root_mean_squared_error: 0.4014\n",
      "Epoch 123/300\n",
      "\u001b[1m381/381\u001b[0m \u001b[32m━━━━━━━━━━━━━━━━━━━━\u001b[0m\u001b[37m\u001b[0m \u001b[1m1s\u001b[0m 2ms/step - loss: 54.7357 - root_mean_squared_error: 0.4126 - val_loss: 93.7710 - val_root_mean_squared_error: 0.3796\n",
      "Epoch 124/300\n",
      "\u001b[1m381/381\u001b[0m \u001b[32m━━━━━━━━━━━━━━━━━━━━\u001b[0m\u001b[37m\u001b[0m \u001b[1m1s\u001b[0m 2ms/step - loss: 51.9116 - root_mean_squared_error: 0.3897 - val_loss: 88.7098 - val_root_mean_squared_error: 0.3860\n",
      "Epoch 125/300\n",
      "\u001b[1m381/381\u001b[0m \u001b[32m━━━━━━━━━━━━━━━━━━━━\u001b[0m\u001b[37m\u001b[0m \u001b[1m1s\u001b[0m 2ms/step - loss: 52.1262 - root_mean_squared_error: 0.3984 - val_loss: 110.4241 - val_root_mean_squared_error: 0.4052\n",
      "Epoch 126/300\n",
      "\u001b[1m381/381\u001b[0m \u001b[32m━━━━━━━━━━━━━━━━━━━━\u001b[0m\u001b[37m\u001b[0m \u001b[1m1s\u001b[0m 2ms/step - loss: 52.6696 - root_mean_squared_error: 0.4023 - val_loss: 85.9128 - val_root_mean_squared_error: 0.4284\n",
      "Epoch 127/300\n",
      "\u001b[1m381/381\u001b[0m \u001b[32m━━━━━━━━━━━━━━━━━━━━\u001b[0m\u001b[37m\u001b[0m \u001b[1m1s\u001b[0m 2ms/step - loss: 55.0264 - root_mean_squared_error: 0.4152 - val_loss: 108.0258 - val_root_mean_squared_error: 0.4243\n",
      "Epoch 128/300\n",
      "\u001b[1m381/381\u001b[0m \u001b[32m━━━━━━━━━━━━━━━━━━━━\u001b[0m\u001b[37m\u001b[0m \u001b[1m1s\u001b[0m 2ms/step - loss: 56.6235 - root_mean_squared_error: 0.4416 - val_loss: 101.6479 - val_root_mean_squared_error: 0.4206\n",
      "Epoch 129/300\n",
      "\u001b[1m381/381\u001b[0m \u001b[32m━━━━━━━━━━━━━━━━━━━━\u001b[0m\u001b[37m\u001b[0m \u001b[1m1s\u001b[0m 2ms/step - loss: 53.7414 - root_mean_squared_error: 0.4220 - val_loss: 93.2330 - val_root_mean_squared_error: 0.3872\n",
      "Epoch 130/300\n",
      "\u001b[1m381/381\u001b[0m \u001b[32m━━━━━━━━━━━━━━━━━━━━\u001b[0m\u001b[37m\u001b[0m \u001b[1m1s\u001b[0m 2ms/step - loss: 53.6008 - root_mean_squared_error: 0.4339 - val_loss: 90.0136 - val_root_mean_squared_error: 0.4414\n",
      "Epoch 131/300\n",
      "\u001b[1m381/381\u001b[0m \u001b[32m━━━━━━━━━━━━━━━━━━━━\u001b[0m\u001b[37m\u001b[0m \u001b[1m1s\u001b[0m 2ms/step - loss: 55.1974 - root_mean_squared_error: 0.4573 - val_loss: 121.3253 - val_root_mean_squared_error: 0.4007\n",
      "Epoch 132/300\n",
      "\u001b[1m381/381\u001b[0m \u001b[32m━━━━━━━━━━━━━━━━━━━━\u001b[0m\u001b[37m\u001b[0m \u001b[1m1s\u001b[0m 2ms/step - loss: 53.7520 - root_mean_squared_error: 0.4197 - val_loss: 122.6495 - val_root_mean_squared_error: 0.3881\n",
      "Epoch 133/300\n",
      "\u001b[1m381/381\u001b[0m \u001b[32m━━━━━━━━━━━━━━━━━━━━\u001b[0m\u001b[37m\u001b[0m \u001b[1m1s\u001b[0m 2ms/step - loss: 52.0363 - root_mean_squared_error: 0.4029 - val_loss: 111.7136 - val_root_mean_squared_error: 0.4388\n",
      "Epoch 134/300\n",
      "\u001b[1m381/381\u001b[0m \u001b[32m━━━━━━━━━━━━━━━━━━━━\u001b[0m\u001b[37m\u001b[0m \u001b[1m1s\u001b[0m 2ms/step - loss: 55.0228 - root_mean_squared_error: 0.4461 - val_loss: 127.5686 - val_root_mean_squared_error: 0.4107\n",
      "Epoch 135/300\n",
      "\u001b[1m381/381\u001b[0m \u001b[32m━━━━━━━━━━━━━━━━━━━━\u001b[0m\u001b[37m\u001b[0m \u001b[1m1s\u001b[0m 2ms/step - loss: 53.3828 - root_mean_squared_error: 0.4262 - val_loss: 126.3197 - val_root_mean_squared_error: 0.3885\n",
      "Epoch 136/300\n",
      "\u001b[1m381/381\u001b[0m \u001b[32m━━━━━━━━━━━━━━━━━━━━\u001b[0m\u001b[37m\u001b[0m \u001b[1m1s\u001b[0m 2ms/step - loss: 53.1749 - root_mean_squared_error: 0.4079 - val_loss: 143.8386 - val_root_mean_squared_error: 0.3916\n",
      "Epoch 137/300\n",
      "\u001b[1m381/381\u001b[0m \u001b[32m━━━━━━━━━━━━━━━━━━━━\u001b[0m\u001b[37m\u001b[0m \u001b[1m1s\u001b[0m 2ms/step - loss: 52.7179 - root_mean_squared_error: 0.4050 - val_loss: 98.2934 - val_root_mean_squared_error: 0.4374\n",
      "Epoch 138/300\n",
      "\u001b[1m381/381\u001b[0m \u001b[32m━━━━━━━━━━━━━━━━━━━━\u001b[0m\u001b[37m\u001b[0m \u001b[1m1s\u001b[0m 2ms/step - loss: 55.9427 - root_mean_squared_error: 0.4310 - val_loss: 131.0722 - val_root_mean_squared_error: 0.3852\n",
      "Epoch 139/300\n",
      "\u001b[1m381/381\u001b[0m \u001b[32m━━━━━━━━━━━━━━━━━━━━\u001b[0m\u001b[37m\u001b[0m \u001b[1m1s\u001b[0m 2ms/step - loss: 53.8151 - root_mean_squared_error: 0.4110 - val_loss: 117.0239 - val_root_mean_squared_error: 0.3900\n",
      "Epoch 140/300\n",
      "\u001b[1m381/381\u001b[0m \u001b[32m━━━━━━━━━━━━━━━━━━━━\u001b[0m\u001b[37m\u001b[0m \u001b[1m1s\u001b[0m 2ms/step - loss: 52.4132 - root_mean_squared_error: 0.4083 - val_loss: 103.6383 - val_root_mean_squared_error: 0.3740\n",
      "Epoch 141/300\n",
      "\u001b[1m381/381\u001b[0m \u001b[32m━━━━━━━━━━━━━━━━━━━━\u001b[0m\u001b[37m\u001b[0m \u001b[1m1s\u001b[0m 2ms/step - loss: 51.0269 - root_mean_squared_error: 0.3871 - val_loss: 117.7373 - val_root_mean_squared_error: 0.4238\n",
      "Epoch 142/300\n",
      "\u001b[1m381/381\u001b[0m \u001b[32m━━━━━━━━━━━━━━━━━━━━\u001b[0m\u001b[37m\u001b[0m \u001b[1m1s\u001b[0m 2ms/step - loss: 52.2229 - root_mean_squared_error: 0.4143 - val_loss: 94.1422 - val_root_mean_squared_error: 0.4169\n",
      "Epoch 143/300\n",
      "\u001b[1m381/381\u001b[0m \u001b[32m━━━━━━━━━━━━━━━━━━━━\u001b[0m\u001b[37m\u001b[0m \u001b[1m1s\u001b[0m 2ms/step - loss: 51.9922 - root_mean_squared_error: 0.4074 - val_loss: 110.1455 - val_root_mean_squared_error: 0.3976\n",
      "Epoch 144/300\n",
      "\u001b[1m381/381\u001b[0m \u001b[32m━━━━━━━━━━━━━━━━━━━━\u001b[0m\u001b[37m\u001b[0m \u001b[1m1s\u001b[0m 2ms/step - loss: 52.0685 - root_mean_squared_error: 0.4012 - val_loss: 114.5066 - val_root_mean_squared_error: 0.3783\n",
      "Epoch 145/300\n",
      "\u001b[1m381/381\u001b[0m \u001b[32m━━━━━━━━━━━━━━━━━━━━\u001b[0m\u001b[37m\u001b[0m \u001b[1m1s\u001b[0m 2ms/step - loss: 50.9025 - root_mean_squared_error: 0.3863 - val_loss: 113.7598 - val_root_mean_squared_error: 0.4909\n",
      "Epoch 146/300\n",
      "\u001b[1m381/381\u001b[0m \u001b[32m━━━━━━━━━━━━━━━━━━━━\u001b[0m\u001b[37m\u001b[0m \u001b[1m1s\u001b[0m 2ms/step - loss: 56.0141 - root_mean_squared_error: 0.5020 - val_loss: 96.3049 - val_root_mean_squared_error: 0.4860\n",
      "Epoch 147/300\n",
      "\u001b[1m381/381\u001b[0m \u001b[32m━━━━━━━━━━━━━━━━━━━━\u001b[0m\u001b[37m\u001b[0m \u001b[1m1s\u001b[0m 2ms/step - loss: 55.2558 - root_mean_squared_error: 0.4700 - val_loss: 131.4046 - val_root_mean_squared_error: 0.4141\n",
      "Epoch 148/300\n",
      "\u001b[1m381/381\u001b[0m \u001b[32m━━━━━━━━━━━━━━━━━━━━\u001b[0m\u001b[37m\u001b[0m \u001b[1m1s\u001b[0m 2ms/step - loss: 53.2917 - root_mean_squared_error: 0.4278 - val_loss: 114.4219 - val_root_mean_squared_error: 0.4197\n",
      "Epoch 149/300\n",
      "\u001b[1m381/381\u001b[0m \u001b[32m━━━━━━━━━━━━━━━━━━━━\u001b[0m\u001b[37m\u001b[0m \u001b[1m1s\u001b[0m 2ms/step - loss: 51.9559 - root_mean_squared_error: 0.4163 - val_loss: 149.4351 - val_root_mean_squared_error: 0.3824\n",
      "Epoch 150/300\n",
      "\u001b[1m381/381\u001b[0m \u001b[32m━━━━━━━━━━━━━━━━━━━━\u001b[0m\u001b[37m\u001b[0m \u001b[1m1s\u001b[0m 2ms/step - loss: 51.9352 - root_mean_squared_error: 0.4012 - val_loss: 137.3107 - val_root_mean_squared_error: 0.3804\n",
      "Epoch 151/300\n",
      "\u001b[1m381/381\u001b[0m \u001b[32m━━━━━━━━━━━━━━━━━━━━\u001b[0m\u001b[37m\u001b[0m \u001b[1m1s\u001b[0m 2ms/step - loss: 50.5316 - root_mean_squared_error: 0.3890 - val_loss: 119.1084 - val_root_mean_squared_error: 0.4262\n",
      "Epoch 152/300\n",
      "\u001b[1m381/381\u001b[0m \u001b[32m━━━━━━━━━━━━━━━━━━━━\u001b[0m\u001b[37m\u001b[0m \u001b[1m1s\u001b[0m 2ms/step - loss: 54.1300 - root_mean_squared_error: 0.4355 - val_loss: 93.6670 - val_root_mean_squared_error: 0.4605\n",
      "Epoch 153/300\n",
      "\u001b[1m381/381\u001b[0m \u001b[32m━━━━━━━━━━━━━━━━━━━━\u001b[0m\u001b[37m\u001b[0m \u001b[1m1s\u001b[0m 2ms/step - loss: 57.4604 - root_mean_squared_error: 0.4602 - val_loss: 130.3599 - val_root_mean_squared_error: 0.3821\n",
      "Epoch 154/300\n",
      "\u001b[1m381/381\u001b[0m \u001b[32m━━━━━━━━━━━━━━━━━━━━\u001b[0m\u001b[37m\u001b[0m \u001b[1m1s\u001b[0m 2ms/step - loss: 52.0982 - root_mean_squared_error: 0.4001 - val_loss: 107.8911 - val_root_mean_squared_error: 0.3902\n",
      "Epoch 155/300\n",
      "\u001b[1m381/381\u001b[0m \u001b[32m━━━━━━━━━━━━━━━━━━━━\u001b[0m\u001b[37m\u001b[0m \u001b[1m1s\u001b[0m 2ms/step - loss: 51.5438 - root_mean_squared_error: 0.3896 - val_loss: 81.0239 - val_root_mean_squared_error: 0.4067\n",
      "Epoch 156/300\n",
      "\u001b[1m381/381\u001b[0m \u001b[32m━━━━━━━━━━━━━━━━━━━━\u001b[0m\u001b[37m\u001b[0m \u001b[1m1s\u001b[0m 2ms/step - loss: 53.8443 - root_mean_squared_error: 0.4127 - val_loss: 87.6857 - val_root_mean_squared_error: 0.3923\n",
      "Epoch 157/300\n",
      "\u001b[1m381/381\u001b[0m \u001b[32m━━━━━━━━━━━━━━━━━━━━\u001b[0m\u001b[37m\u001b[0m \u001b[1m1s\u001b[0m 2ms/step - loss: 50.7090 - root_mean_squared_error: 0.3894 - val_loss: 100.9003 - val_root_mean_squared_error: 0.3883\n",
      "Epoch 158/300\n",
      "\u001b[1m381/381\u001b[0m \u001b[32m━━━━━━━━━━━━━━━━━━━━\u001b[0m\u001b[37m\u001b[0m \u001b[1m1s\u001b[0m 2ms/step - loss: 51.1205 - root_mean_squared_error: 0.4044 - val_loss: 108.3042 - val_root_mean_squared_error: 0.4421\n",
      "Epoch 159/300\n",
      "\u001b[1m381/381\u001b[0m \u001b[32m━━━━━━━━━━━━━━━━━━━━\u001b[0m\u001b[37m\u001b[0m \u001b[1m1s\u001b[0m 2ms/step - loss: 52.9528 - root_mean_squared_error: 0.4400 - val_loss: 113.6099 - val_root_mean_squared_error: 0.4048\n",
      "Epoch 160/300\n",
      "\u001b[1m381/381\u001b[0m \u001b[32m━━━━━━━━━━━━━━━━━━━━\u001b[0m\u001b[37m\u001b[0m \u001b[1m1s\u001b[0m 2ms/step - loss: 52.8466 - root_mean_squared_error: 0.4243 - val_loss: 115.8381 - val_root_mean_squared_error: 0.4363\n",
      "Epoch 160: early stopping\n",
      "Restoring model weights from the end of the best epoch: 140.\n"
     ]
    }
   ],
   "source": [
    "history = model.fit(x_train, y_train, validation_data = (x_val, y_val), epochs= 300, batch_size = 32, shuffle = True, callbacks=[callback]) "
   ]
  },
  {
   "cell_type": "markdown",
   "metadata": {},
   "source": [
    "Métriques d'évaluations"
   ]
  },
  {
   "cell_type": "code",
   "execution_count": 376,
   "metadata": {},
   "outputs": [],
   "source": [
    "def plot_training_analysis():\n",
    "  acc = history.history['root_mean_squared_error']\n",
    "  val_acc = history.history['val_root_mean_squared_error']\n",
    "  loss = history.history['loss']\n",
    "  val_loss = history.history['val_loss']\n",
    "  epochs = range(len(loss))\n",
    "\n",
    "  plt.plot(epochs, acc, 'b', linestyle=\"--\",label='Training RMSE')\n",
    "  plt.plot(epochs, val_acc, 'g', label='Validation RMSE')\n",
    "  plt.title('Training and validation rmse')\n",
    "  plt.legend()\n",
    "\n",
    "  plt.figure()\n",
    "\n",
    "  plt.plot(epochs, loss, 'b', linestyle=\"--\", linewidth = 4, label='Training loss MAPE')\n",
    "  plt.plot(epochs, val_loss,'g', label='Validation loss MAPE')\n",
    "  plt.title('Training and validation loss')\n",
    "  plt.legend()\n",
    "\n",
    "  plt.show()"
   ]
  },
  {
   "cell_type": "code",
   "execution_count": 377,
   "metadata": {},
   "outputs": [
    {
     "data": {
      "image/png": "[encoded data removed]",
      "text/plain": [
       "<Figure size 640x480 with 1 Axes>"
      ]
     },
     "metadata": {},
     "output_type": "display_data"
    },
    {
     "data": {
      "image/png": "[encoded data removed]",
      "text/plain": [
       "<Figure size 640x480 with 1 Axes>"
      ]
     },
     "metadata": {},
     "output_type": "display_data"
    }
   ],
   "source": [
    "plot_training_analysis()"
   ]
  },
  {
   "cell_type": "markdown",
   "metadata": {},
   "source": [
    "Evaluation des métriques sur les valeurs non normalisées"
   ]
  },
  {
   "cell_type": "code",
   "execution_count": 378,
   "metadata": {},
   "outputs": [
    {
     "name": "stdout",
     "output_type": "stream",
     "text": [
      "\u001b[1m381/381\u001b[0m \u001b[32m━━━━━━━━━━━━━━━━━━━━\u001b[0m\u001b[37m\u001b[0m \u001b[1m0s\u001b[0m 921us/step\n",
      "\u001b[1m82/82\u001b[0m \u001b[32m━━━━━━━━━━━━━━━━━━━━\u001b[0m\u001b[37m\u001b[0m \u001b[1m0s\u001b[0m 879us/step\n",
      "\u001b[1m82/82\u001b[0m \u001b[32m━━━━━━━━━━━━━━━━━━━━\u001b[0m\u001b[37m\u001b[0m \u001b[1m0s\u001b[0m 820us/step\n"
     ]
    }
   ],
   "source": [
    "y_pred_train = model.predict(x_train)\n",
    "y_pred_val = model.predict(x_val)\n",
    "y_pred_test = model.predict(x_test)\n",
    "###\n",
    "y_pred_train_denorm = sc_y.inverse_transform(y_pred_train)\n",
    "y_pred_val_denorm = sc_y.inverse_transform(y_pred_val)\n",
    "y_pred_test_denorm = sc_y.inverse_transform(y_pred_test)\n",
    "###\n",
    "y_train_denorm = sc_y.inverse_transform(y_train)\n",
    "y_val_denorm = sc_y.inverse_transform(y_val)\n",
    "y_test_denorm = sc_y.inverse_transform(y_test)"
   ]
  },
  {
   "cell_type": "code",
   "execution_count": 379,
   "metadata": {},
   "outputs": [],
   "source": [
    "from sklearn.metrics import mean_squared_error, mean_absolute_error, r2_score"
   ]
  },
  {
   "cell_type": "code",
   "execution_count": 380,
   "metadata": {},
   "outputs": [
    {
     "name": "stdout",
     "output_type": "stream",
     "text": [
      "Train Root Mean Squared Error (RMSE): 11.245122951098587\n",
      "Train Mean Absolute Error (MAE): 7.70415560221217\n",
      "Val Root Mean Squared Error (RMSE): 10.891735556916672\n",
      "Val Mean Absolute Error (MAE): 7.765208134698649\n",
      "Test Root Mean Squared Error (RMSE): 11.359957982041712\n",
      "Test R2-score : 0.7990736080461033\n"
     ]
    },
    {
     "name": "stderr",
     "output_type": "stream",
     "text": [
      "c:\\Users\\yassi\\.julia\\conda\\3\\x86_64\\lib\\site-packages\\sklearn\\metrics\\_regression.py:483: FutureWarning: 'squared' is deprecated in version 1.4 and will be removed in 1.6. To calculate the root mean squared error, use the function'root_mean_squared_error'.\n",
      "  warnings.warn(\n",
      "c:\\Users\\yassi\\.julia\\conda\\3\\x86_64\\lib\\site-packages\\sklearn\\metrics\\_regression.py:483: FutureWarning: 'squared' is deprecated in version 1.4 and will be removed in 1.6. To calculate the root mean squared error, use the function'root_mean_squared_error'.\n",
      "  warnings.warn(\n",
      "c:\\Users\\yassi\\.julia\\conda\\3\\x86_64\\lib\\site-packages\\sklearn\\metrics\\_regression.py:483: FutureWarning: 'squared' is deprecated in version 1.4 and will be removed in 1.6. To calculate the root mean squared error, use the function'root_mean_squared_error'.\n",
      "  warnings.warn(\n"
     ]
    }
   ],
   "source": [
    "rmse = mean_squared_error(y_test_denorm, y_pred_test_denorm, squared= False)\n",
    "mae_train = mean_absolute_error(y_train_denorm, y_pred_train_denorm)\n",
    "rmse_train = mean_squared_error(y_train_denorm, y_pred_train_denorm, squared=False)\n",
    "mae_val = mean_absolute_error(y_val_denorm, y_pred_val_denorm)\n",
    "rmse_val= mean_squared_error(y_val_denorm, y_pred_val_denorm, squared=False)\n",
    "r2_test = r2_score(y_pred_test_denorm, y_test_denorm)\n",
    "print(f\"Train Root Mean Squared Error (RMSE): {rmse_train}\")\n",
    "print(f\"Train Mean Absolute Error (MAE): {mae_train}\")\n",
    "print(f\"Val Root Mean Squared Error (RMSE): {rmse_val}\")\n",
    "print(f\"Val Mean Absolute Error (MAE): {mae_val}\")\n",
    "print(f\"Test Root Mean Squared Error (RMSE): {rmse}\")\n",
    "print(f\"Test R2-score : {r2_test}\")"
   ]
  },
  {
   "cell_type": "markdown",
   "metadata": {},
   "source": [
    "Histogramme sur l'erreur sur les ensembles de test et de validation"
   ]
  },
  {
   "cell_type": "code",
   "execution_count": 381,
   "metadata": {},
   "outputs": [],
   "source": [
    "erreur_norm = []\n",
    "nb_0 = 0\n",
    "for i in range(len(y_pred_test)): \n",
    "  if y_test_denorm[i]!=0:\n",
    "    val = 100*abs(y_pred_test_denorm[i] - y_test_denorm[i])/y_test_denorm[i]\n",
    "    erreur_norm.append(val.item())\n",
    "  else:\n",
    "    nb_0 = nb_0+1\n",
    "  \n",
    "erreur_norm_val = []\n",
    "for i in range(len(y_pred_val)): \n",
    "  if y_val_denorm[i]!=0:\n",
    "    val = 100*abs(y_pred_val_denorm[i] - y_val_denorm[i])/y_val_denorm[i]\n",
    "    erreur_norm_val.append(val.item())\n",
    "  else:\n",
    "    pass"
   ]
  },
  {
   "cell_type": "code",
   "execution_count": 382,
   "metadata": {},
   "outputs": [
    {
     "name": "stdout",
     "output_type": "stream",
     "text": [
      "Il y a un nombre de 0 zéros\n"
     ]
    }
   ],
   "source": [
    "print(f\"Il y a un nombre de {nb_0} zéros\")"
   ]
  },
  {
   "cell_type": "code",
   "execution_count": 383,
   "metadata": {},
   "outputs": [
    {
     "data": {
      "image/png": "[encoded data removed]",
      "text/plain": [
       "<Figure size 640x480 with 1 Axes>"
      ]
     },
     "metadata": {},
     "output_type": "display_data"
    }
   ],
   "source": [
    "plt.hist([erreur_norm_val, erreur_norm],range=(0,100), bins=10, color=['green', 'red'], edgecolor='black', hatch='/', label=['validation', 'test'])\n",
    "plt.xlabel(\"Pourcentage d'erreur\")\n",
    "plt.ylabel(\"Fréquence\")\n",
    "plt.title(\"Fréquence des pourcentages d'erreur sur les ensembles de test et de validation\")\n",
    "plt.legend()\n",
    "plt.show()"
   ]
  },
  {
   "cell_type": "code",
   "execution_count": 384,
   "metadata": {},
   "outputs": [
    {
     "data": {
      "image/png": "[encoded data removed]",
      "text/plain": [
       "<Figure size 640x480 with 1 Axes>"
      ]
     },
     "metadata": {},
     "output_type": "display_data"
    }
   ],
   "source": [
    "plt.figure()\n",
    "plt.hist([erreur_norm_val, erreur_norm],range=(0,10), bins=10, color=['green', 'red'], edgecolor='black', hatch='/', label=['validation', 'test'])\n",
    "plt.xlabel(\"Pourcentage d'erreur\")\n",
    "plt.ylabel(\"Fréquence\")\n",
    "plt.title(\"Fréquence des pourcentages d'erreur sur les ensembles de test et de validation\")\n",
    "plt.legend()\n",
    "plt.show()"
   ]
  },
  {
   "cell_type": "code",
   "execution_count": 385,
   "metadata": {},
   "outputs": [
    {
     "name": "stdout",
     "output_type": "stream",
     "text": [
      "============================= Vérité Terrain ===================================\n",
      "[[104.]\n",
      " [ 43.]\n",
      " [143.]\n",
      " [139.]\n",
      " [ 75.]\n",
      " [ 86.]\n",
      " [ 78.]\n",
      " [ 65.]\n",
      " [ 48.]\n",
      " [ 77.]\n",
      " [120.]\n",
      " [ 43.]\n",
      " [ 66.]\n",
      " [ 55.]\n",
      " [104.]\n",
      " [ 75.]\n",
      " [112.]\n",
      " [ 60.]\n",
      " [118.]\n",
      " [ 35.]\n",
      " [ 81.]\n",
      " [ 39.]\n",
      " [ 64.]\n",
      " [ 65.]\n",
      " [ 94.]\n",
      " [ 48.]\n",
      " [ 69.]\n",
      " [ 59.]\n",
      " [ 46.]\n",
      " [105.]\n",
      " [102.]\n",
      " [ 60.]\n",
      " [ 91.]\n",
      " [ 48.]\n",
      " [ 35.]\n",
      " [ 14.]\n",
      " [ 55.]\n",
      " [ 87.]\n",
      " [ 79.]\n",
      " [ 66.]\n",
      " [ 13.]\n",
      " [ 71.]\n",
      " [ 43.]\n",
      " [ 35.]\n",
      " [ 79.]\n",
      " [ 67.]\n",
      " [ 95.]\n",
      " [ 58.]\n",
      " [ 52.]\n",
      " [ 26.]]\n",
      "============================= Prédictions ===================================\n",
      "[[102.48399 ]\n",
      " [ 71.451195]\n",
      " [138.4961  ]\n",
      " [140.4804  ]\n",
      " [ 72.00967 ]\n",
      " [ 84.70575 ]\n",
      " [ 72.00967 ]\n",
      " [ 61.756187]\n",
      " [ 58.080635]\n",
      " [ 72.00967 ]\n",
      " [118.935745]\n",
      " [ 38.17449 ]\n",
      " [ 72.00967 ]\n",
      " [ 72.00967 ]\n",
      " [ 97.48899 ]\n",
      " [ 72.00967 ]\n",
      " [110.40699 ]\n",
      " [ 65.30599 ]\n",
      " [ 97.562744]\n",
      " [ 49.75917 ]\n",
      " [ 72.00967 ]\n",
      " [ 24.706501]\n",
      " [ 72.00967 ]\n",
      " [ 72.00967 ]\n",
      " [ 90.28878 ]\n",
      " [ 43.86538 ]\n",
      " [ 66.98179 ]\n",
      " [ 72.0097  ]\n",
      " [ 72.00967 ]\n",
      " [108.76595 ]\n",
      " [ 94.5689  ]\n",
      " [ 47.73143 ]\n",
      " [ 91.80845 ]\n",
      " [ 59.32761 ]\n",
      " [ 46.638847]\n",
      " [ 24.169758]\n",
      " [ 54.524654]\n",
      " [ 85.318474]\n",
      " [ 72.00967 ]\n",
      " [ 72.00967 ]\n",
      " [ 18.445133]\n",
      " [ 86.03446 ]\n",
      " [ 55.620125]\n",
      " [ 42.610256]\n",
      " [ 81.50246 ]\n",
      " [ 70.92262 ]\n",
      " [ 72.00967 ]\n",
      " [ 72.00967 ]\n",
      " [ 34.521587]\n",
      " [ 37.64527 ]]\n"
     ]
    }
   ],
   "source": [
    "print(\"============================= Vérité Terrain ===================================\")\n",
    "print(y_test_denorm[:50])\n",
    "print(\"============================= Prédictions ===================================\")\n",
    "print(y_pred_test_denorm[:50])"
   ]
  },
  {
   "cell_type": "code",
   "execution_count": 386,
   "metadata": {},
   "outputs": [
    {
     "name": "stdout",
     "output_type": "stream",
     "text": [
      "============================= Vérité Terrain ===================================\n",
      "[[ 53.]\n",
      " [ 45.]\n",
      " [ 89.]\n",
      " [ 97.]\n",
      " [ 54.]\n",
      " [ 88.]\n",
      " [ 63.]\n",
      " [ 27.]\n",
      " [ 28.]\n",
      " [ 95.]\n",
      " [ 57.]\n",
      " [ 60.]\n",
      " [ 90.]\n",
      " [120.]\n",
      " [ 81.]\n",
      " [ 83.]\n",
      " [ 67.]\n",
      " [108.]\n",
      " [ 47.]\n",
      " [ 31.]\n",
      " [ 71.]\n",
      " [107.]\n",
      " [ 81.]\n",
      " [115.]\n",
      " [ 81.]\n",
      " [100.]\n",
      " [ 93.]\n",
      " [ 12.]\n",
      " [ 58.]\n",
      " [ 36.]\n",
      " [ 53.]\n",
      " [ 90.]\n",
      " [ 17.]\n",
      " [ 95.]\n",
      " [ 37.]\n",
      " [ 49.]\n",
      " [ 66.]\n",
      " [ 65.]\n",
      " [ 40.]\n",
      " [ 68.]\n",
      " [ 42.]\n",
      " [136.]\n",
      " [ 58.]\n",
      " [ 36.]\n",
      " [ 88.]\n",
      " [ 89.]\n",
      " [ 83.]\n",
      " [ 75.]\n",
      " [ 79.]\n",
      " [116.]]\n",
      "============================= Prédictions ===================================\n",
      "[[ 59.61328 ]\n",
      " [ 47.110764]\n",
      " [ 72.00967 ]\n",
      " [ 97.36241 ]\n",
      " [ 72.00967 ]\n",
      " [ 84.66815 ]\n",
      " [ 72.00967 ]\n",
      " [ 13.570099]\n",
      " [ 49.673565]\n",
      " [ 97.96184 ]\n",
      " [ 58.726402]\n",
      " [ 61.908752]\n",
      " [ 95.92784 ]\n",
      " [123.80003 ]\n",
      " [ 72.017235]\n",
      " [ 72.00967 ]\n",
      " [ 72.00967 ]\n",
      " [109.63036 ]\n",
      " [ 50.382465]\n",
      " [ 25.062523]\n",
      " [ 72.00967 ]\n",
      " [ 97.63972 ]\n",
      " [ 72.00967 ]\n",
      " [114.419525]\n",
      " [ 72.00967 ]\n",
      " [ 97.852554]\n",
      " [ 72.00967 ]\n",
      " [ 20.07415 ]\n",
      " [ 72.00967 ]\n",
      " [ 53.7957  ]\n",
      " [ 54.283836]\n",
      " [ 75.09299 ]\n",
      " [ 26.404823]\n",
      " [ 87.939384]\n",
      " [ 40.337643]\n",
      " [ 72.00967 ]\n",
      " [ 62.30088 ]\n",
      " [ 72.00296 ]\n",
      " [ 36.461815]\n",
      " [ 72.00967 ]\n",
      " [ 61.038265]\n",
      " [135.3903  ]\n",
      " [ 60.97319 ]\n",
      " [ 39.630856]\n",
      " [ 72.00967 ]\n",
      " [ 74.27171 ]\n",
      " [ 83.50506 ]\n",
      " [ 72.00967 ]\n",
      " [ 72.00967 ]\n",
      " [118.138565]]\n"
     ]
    }
   ],
   "source": [
    "print(\"============================= Vérité Terrain ===================================\")\n",
    "print(y_test_denorm[100:150])\n",
    "print(\"============================= Prédictions ===================================\")\n",
    "print(y_pred_test_denorm[100:150])"
   ]
  },
  {
   "cell_type": "code",
   "execution_count": 387,
   "metadata": {},
   "outputs": [
    {
     "name": "stdout",
     "output_type": "stream",
     "text": [
      "[[121.         346.           5.71900826   3.          11.\n",
      "    4.61336088   6.           3.          39.          10.        ]\n",
      " [112.         319.           5.69642857   3.           9.\n",
      "    4.55984556  13.           4.          11.          24.        ]\n",
      " [145.         413.           5.69655172   3.           9.\n",
      "    5.29750958  28.           1.          49.           2.        ]\n",
      " [146.         415.           5.68493151   3.          10.\n",
      "    5.27482286  20.           3.          60.           3.        ]\n",
      " [137.         396.           5.7810219    3.           9.\n",
      "    4.78445685  17.           2.          49.          39.        ]\n",
      " [ 96.         269.           5.60416667   3.           8.\n",
      "    4.45723684  14.           7.          35.           5.        ]\n",
      " [ 87.         245.           5.63218391   3.           9.\n",
      "    4.12830794   0.           0.          18.           7.        ]\n",
      " [111.         314.           5.65765766   3.           9.\n",
      "    4.67239967  23.           7.          24.          28.        ]\n",
      " [ 97.         274.           5.64948454   4.           9.\n",
      "    4.47830756  20.           1.          34.          24.        ]\n",
      " [127.         361.           5.68503937   3.          10.\n",
      "    4.94600675   4.           2.          22.          26.        ]\n",
      " [140.         399.           5.7          3.           9.\n",
      "    5.13761562  17.           7.          45.          12.        ]\n",
      " [104.         295.           5.67307692   3.           9.\n",
      "    4.46153846   1.           0.           8.          30.        ]\n",
      " [148.         420.           5.67567568   3.          10.\n",
      "    5.33268983  27.           6.           8.          25.        ]\n",
      " [117.         329.           5.62393162   3.           9.\n",
      "    4.86059534   0.           0.          23.          27.        ]\n",
      " [133.         380.           5.71428571   3.          10.\n",
      "    4.87935748   2.           1.          26.          18.        ]\n",
      " [113.         319.           5.6460177    3.           9.\n",
      "    4.81510746  10.           1.          41.          29.        ]\n",
      " [117.         331.           5.65811966   3.          10.\n",
      "    4.69363395  11.           1.          10.           1.        ]\n",
      " [ 86.         239.           5.55813953   3.           9.\n",
      "    4.05581395  19.           8.          44.          17.        ]\n",
      " [142.         402.           5.66197183   3.           9.\n",
      "    5.29757267  12.           2.           4.          10.        ]\n",
      " [144.         408.           5.66666667   3.           9.\n",
      "    5.31497669  30.           9.           4.          34.        ]\n",
      " [ 87.         246.           5.65517241   3.           9.\n",
      "    4.0943598   18.           1.           9.           4.        ]\n",
      " [136.         387.           5.69117647   3.           9.\n",
      "    4.97472767   5.           2.           8.          50.        ]\n",
      " [ 81.         227.           5.60493827   3.          10.\n",
      "    4.00895062   1.           0.          13.           7.        ]\n",
      " [126.         359.           5.6984127    3.           9.\n",
      "    4.89866667   3.           0.          27.          27.        ]\n",
      " [108.         302.           5.59259259   3.          10.\n",
      "    4.64762894   9.           1.          46.          12.        ]\n",
      " [111.         320.           5.76576577   4.          10.\n",
      "    4.31220311  18.           4.          12.          29.        ]\n",
      " [ 82.         227.           5.53658537   3.           9.\n",
      "    4.08943089   8.           1.          32.          10.        ]\n",
      " [ 80.         220.           5.5          3.          10.\n",
      "    4.04177215  15.           2.           9.           5.        ]\n",
      " [148.         422.           5.7027027    3.           9.\n",
      "    5.33599926  17.           7.          23.          46.        ]\n",
      " [133.         380.           5.71428571   3.           9.\n",
      "    5.00945546  19.           0.           6.           7.        ]\n",
      " [115.         325.           5.65217391   3.          10.\n",
      "    4.74279176  16.           8.          32.          10.        ]\n",
      " [ 83.         232.           5.59036145   3.           9.\n",
      "    4.07816632   0.           0.          11.          18.        ]\n",
      " [134.         380.           5.67164179   3.          10.\n",
      "    4.92178207  27.          10.          12.          12.        ]\n",
      " [120.         340.           5.66666667   3.           9.\n",
      "    4.79943978   8.           3.          26.          38.        ]\n",
      " [113.         322.           5.69911504   3.           9.\n",
      "    4.57079646  13.           2.           9.          28.        ]\n",
      " [ 86.         238.           5.53488372   3.           9.\n",
      "    4.06894665   9.           3.           6.          26.        ]\n",
      " [109.         307.           5.63302752   3.           9.\n",
      "    4.61297995  17.           3.           8.          23.        ]\n",
      " [ 95.         266.           5.6          3.          10.\n",
      "    4.35632699  11.           3.          37.           6.        ]\n",
      " [141.         403.           5.71631206   3.          10.\n",
      "    5.05825735  18.           1.          30.          31.        ]\n",
      " [149.         428.           5.74496644   3.          10.\n",
      "    5.1478324   12.           3.          20.          36.        ]\n",
      " [ 89.         247.           5.5505618    3.           8.\n",
      "    4.28013279  10.           2.          12.          38.        ]\n",
      " [130.         369.           5.67692308   3.          10.\n",
      "    5.08050089  10.           4.          45.          26.        ]\n",
      " [ 88.         246.           5.59090909   3.           9.\n",
      "    4.196186     6.           1.          14.          17.        ]\n",
      " [123.         347.           5.64227642   4.           9.\n",
      "    4.96254831  10.           0.          12.          33.        ]\n",
      " [ 95.         266.           5.6          3.          10.\n",
      "    4.38275476  11.           4.          33.           8.        ]\n",
      " [ 96.         269.           5.60416667   3.           9.\n",
      "    4.30811404   7.           0.          25.          18.        ]\n",
      " [129.         368.           5.70542636   4.           9.\n",
      "    5.03355136  22.           7.          12.          17.        ]\n",
      " [104.         294.           5.65384615   3.          11.\n",
      "    4.50074683  22.           0.          13.          16.        ]\n",
      " [ 97.         272.           5.60824742   3.          10.\n",
      "    4.44802405   3.           1.           8.          27.        ]\n",
      " [120.         339.           5.65         3.           9.\n",
      "    4.90042017  16.           4.          11.          35.        ]]\n"
     ]
    }
   ],
   "source": [
    "x_test_denorm = sc_x.inverse_transform(x_test)\n",
    "print(x_test_denorm[:50])"
   ]
  }
 ],
 "metadata": {
  "kernelspec": {
   "display_name": "base",
   "language": "python",
   "name": "python3"
  },
  "language_info": {
   "codemirror_mode": {
    "name": "ipython",
    "version": 3
   },
   "file_extension": ".py",
   "mimetype": "text/x-python",
   "name": "python",
   "nbconvert_exporter": "python",
   "pygments_lexer": "ipython3",
   "version": "3.10.14"
  }
 },
 "nbformat": 4,
 "nbformat_minor": 2
}
