{
 "cells": [
  {
   "cell_type": "markdown",
   "metadata": {},
   "source": [
    "# Fichier de visualisation de résultats pour le jeu attaquant-défenseur"
   ]
  },
  {
   "cell_type": "markdown",
   "metadata": {},
   "source": [
    "## Imports"
   ]
  },
  {
   "cell_type": "code",
   "execution_count": 61,
   "metadata": {},
   "outputs": [],
   "source": [
    "import pandas as pd\n",
    "import matplotlib.pyplot as plt"
   ]
  },
  {
   "cell_type": "markdown",
   "metadata": {},
   "source": [
    "## Récupération des données"
   ]
  },
  {
   "cell_type": "code",
   "execution_count": 62,
   "metadata": {},
   "outputs": [],
   "source": [
    "dataframe = pd.read_csv(\"resultats_simu_cout_chgts.csv\")"
   ]
  },
  {
   "cell_type": "code",
   "execution_count": 63,
   "metadata": {},
   "outputs": [
    {
     "data": {
      "text/html": [
       "<div>\n",
       "<style scoped>\n",
       "    .dataframe tbody tr th:only-of-type {\n",
       "        vertical-align: middle;\n",
       "    }\n",
       "\n",
       "    .dataframe tbody tr th {\n",
       "        vertical-align: top;\n",
       "    }\n",
       "\n",
       "    .dataframe thead th {\n",
       "        text-align: right;\n",
       "    }\n",
       "</style>\n",
       "<table border=\"1\" class=\"dataframe\">\n",
       "  <thead>\n",
       "    <tr style=\"text-align: right;\">\n",
       "      <th></th>\n",
       "      <th>proba is</th>\n",
       "      <th>proba sr</th>\n",
       "      <th>nombre hpb</th>\n",
       "      <th>nombre shp</th>\n",
       "      <th>pic</th>\n",
       "      <th>cumul inf</th>\n",
       "      <th>nb changements sr</th>\n",
       "      <th>nb changements is</th>\n",
       "    </tr>\n",
       "  </thead>\n",
       "  <tbody>\n",
       "    <tr>\n",
       "      <th>0</th>\n",
       "      <td>0.1</td>\n",
       "      <td>0.01</td>\n",
       "      <td>1</td>\n",
       "      <td>0</td>\n",
       "      <td>197.000000</td>\n",
       "      <td>175311.000000</td>\n",
       "      <td>195.000000</td>\n",
       "      <td>15767.333333</td>\n",
       "    </tr>\n",
       "    <tr>\n",
       "      <th>1</th>\n",
       "      <td>0.1</td>\n",
       "      <td>0.01</td>\n",
       "      <td>1</td>\n",
       "      <td>1</td>\n",
       "      <td>198.666667</td>\n",
       "      <td>167193.333333</td>\n",
       "      <td>192.000000</td>\n",
       "      <td>15211.000000</td>\n",
       "    </tr>\n",
       "    <tr>\n",
       "      <th>2</th>\n",
       "      <td>0.1</td>\n",
       "      <td>0.01</td>\n",
       "      <td>1</td>\n",
       "      <td>2</td>\n",
       "      <td>197.000000</td>\n",
       "      <td>160447.000000</td>\n",
       "      <td>189.000000</td>\n",
       "      <td>14655.000000</td>\n",
       "    </tr>\n",
       "    <tr>\n",
       "      <th>3</th>\n",
       "      <td>0.1</td>\n",
       "      <td>0.01</td>\n",
       "      <td>1</td>\n",
       "      <td>3</td>\n",
       "      <td>195.666667</td>\n",
       "      <td>149220.000000</td>\n",
       "      <td>190.666667</td>\n",
       "      <td>13504.666667</td>\n",
       "    </tr>\n",
       "    <tr>\n",
       "      <th>4</th>\n",
       "      <td>0.1</td>\n",
       "      <td>0.01</td>\n",
       "      <td>1</td>\n",
       "      <td>4</td>\n",
       "      <td>198.000000</td>\n",
       "      <td>157042.666667</td>\n",
       "      <td>185.000000</td>\n",
       "      <td>14305.666667</td>\n",
       "    </tr>\n",
       "  </tbody>\n",
       "</table>\n",
       "</div>"
      ],
      "text/plain": [
       "   proba is  proba sr  nombre hpb  nombre shp         pic      cumul inf  \\\n",
       "0       0.1      0.01           1           0  197.000000  175311.000000   \n",
       "1       0.1      0.01           1           1  198.666667  167193.333333   \n",
       "2       0.1      0.01           1           2  197.000000  160447.000000   \n",
       "3       0.1      0.01           1           3  195.666667  149220.000000   \n",
       "4       0.1      0.01           1           4  198.000000  157042.666667   \n",
       "\n",
       "   nb changements sr  nb changements is  \n",
       "0         195.000000       15767.333333  \n",
       "1         192.000000       15211.000000  \n",
       "2         189.000000       14655.000000  \n",
       "3         190.666667       13504.666667  \n",
       "4         185.000000       14305.666667  "
      ]
     },
     "execution_count": 63,
     "metadata": {},
     "output_type": "execute_result"
    }
   ],
   "source": [
    "dataframe.head()"
   ]
  },
  {
   "cell_type": "markdown",
   "metadata": {},
   "source": [
    "## Calcul du coût"
   ]
  },
  {
   "cell_type": "code",
   "execution_count": 64,
   "metadata": {},
   "outputs": [],
   "source": [
    "cout_inter = 47.1\n",
    "cout_antiv = 136.2\n",
    "cout_hp = 1002\n",
    "cout_shp = 2000.5"
   ]
  },
  {
   "cell_type": "code",
   "execution_count": 65,
   "metadata": {},
   "outputs": [],
   "source": [
    "K = cout_inter * dataframe['nb changements is'] + cout_antiv * dataframe['nb changements sr'] + cout_hp*dataframe['nombre hpb'] + cout_shp * dataframe['nombre shp']"
   ]
  },
  {
   "cell_type": "code",
   "execution_count": 66,
   "metadata": {},
   "outputs": [],
   "source": [
    "import numpy as np \n",
    "K = K.to_numpy()"
   ]
  },
  {
   "cell_type": "code",
   "execution_count": 67,
   "metadata": {},
   "outputs": [
    {
     "name": "stdout",
     "output_type": "stream",
     "text": [
      "min = 110612.5, max = 770202.4, moyenne=261383.476661157\n",
      "1\n",
      "3025\n",
      "3024\n"
     ]
    }
   ],
   "source": [
    "## Tests/Vérifs\n",
    "ma = np.max(K)\n",
    "mi = np.min(K)\n",
    "moy = np.mean(K)\n",
    "\n",
    "print(f\"min = {mi}, max = {ma}, moyenne={moy}\")\n",
    "\n",
    "(x,a) = np.unique(K, return_counts=True)\n",
    "\n",
    "print(len([x for x in a if x > 1]))\n",
    "print(len(K))\n",
    "print(len(x))"
   ]
  },
  {
   "cell_type": "markdown",
   "metadata": {},
   "source": [
    "#### On gère le problème des doublons"
   ]
  },
  {
   "cell_type": "code",
   "execution_count": 68,
   "metadata": {},
   "outputs": [
    {
     "name": "stdout",
     "output_type": "stream",
     "text": [
      "[2170]\n"
     ]
    }
   ],
   "source": [
    "(K_unique, ind_k) = np.unique(K, return_index=True)\n",
    "candidats = [i for i in range(len(K)) if i not in ind_k]\n",
    "print(candidats)\n"
   ]
  },
  {
   "cell_type": "code",
   "execution_count": 69,
   "metadata": {},
   "outputs": [],
   "source": [
    "is_tab = dataframe['nb changements is'].to_numpy() \n",
    "sr_tab = dataframe['nb changements sr'] .to_numpy()\n",
    "hb_tab = dataframe['nombre hpb'].to_numpy()\n",
    "hs_tab = dataframe['nombre shp'].to_numpy()"
   ]
  },
  {
   "cell_type": "code",
   "execution_count": 70,
   "metadata": {},
   "outputs": [],
   "source": [
    "temp = []\n",
    "for i in range(len(candidats)): \n",
    "    ta=[]\n",
    "    ta.extend( [is_tab[candidats[i]], sr_tab[candidats[i]], hb_tab[candidats[i]], hs_tab[candidats[i]]] )\n",
    "    temp.append(ta)"
   ]
  },
  {
   "cell_type": "code",
   "execution_count": 71,
   "metadata": {},
   "outputs": [],
   "source": [
    "# Test premier jeu de valeurs\n",
    "is_ind = [x for x in range(len(is_tab)) if is_tab[x] == temp[0][0]]\n",
    "sr_ind = [x for x in range(len(is_tab)) if sr_tab[x] == temp[0][1]]\n",
    "hb_ind = [x for x in range(len(is_tab)) if hb_tab[x] == temp[0][2]]\n",
    "hs_ind = [x for x in range(len(is_tab)) if hs_tab[x] == temp[0][3]]\n",
    "\n",
    "cand1 = [x for x in is_ind if (x in sr_ind and x in hb_ind and x in hs_ind)]"
   ]
  },
  {
   "cell_type": "code",
   "execution_count": 72,
   "metadata": {},
   "outputs": [
    {
     "name": "stdout",
     "output_type": "stream",
     "text": [
      "[2170]\n"
     ]
    }
   ],
   "source": [
    "print(cand1)"
   ]
  },
  {
   "cell_type": "code",
   "execution_count": 73,
   "metadata": {},
   "outputs": [
    {
     "name": "stdout",
     "output_type": "stream",
     "text": [
      "3024\n"
     ]
    }
   ],
   "source": [
    "cumul = dataframe['cumul inf'].to_numpy()\n",
    "cumul = [cumul[x] for x in range(len(cumul)) if x not in candidats]## on retire les éléments où les K n'étaient pas uniques\n",
    "print(len(cumul))"
   ]
  },
  {
   "cell_type": "code",
   "execution_count": 74,
   "metadata": {},
   "outputs": [],
   "source": [
    "regK = np.max(K_unique)\n",
    "regC = np.max(cumul)\n",
    "\n",
    "cout = cumul + (regC/regK) * K_unique"
   ]
  },
  {
   "cell_type": "markdown",
   "metadata": {},
   "source": [
    "## Récupération des résultats et affichage"
   ]
  },
  {
   "cell_type": "code",
   "execution_count": 75,
   "metadata": {},
   "outputs": [],
   "source": [
    "indexes = np.argsort(cout)\n",
    "\n",
    "min_indices = indexes[:15]"
   ]
  },
  {
   "cell_type": "code",
   "execution_count": 76,
   "metadata": {},
   "outputs": [
    {
     "data": {
      "image/png": "[encoded data removed]",
      "text/plain": [
       "<Figure size 640x480 with 1 Axes>"
      ]
     },
     "metadata": {},
     "output_type": "display_data"
    }
   ],
   "source": [
    "plt.scatter(K_unique[:1500], cout[:1500])\n",
    "plt.xlabel(\"investissement\")\n",
    "plt.ylabel(\"fonction de coût\")\n",
    "plt.title(\"Evolution de la fonction de coût en fonction de l'investissement\")\n",
    "plt.savefig(\"simu_close_up\")\n",
    "plt.show()"
   ]
  },
  {
   "cell_type": "markdown",
   "metadata": {},
   "source": [
    "## Affichage des 15 configurations qui donnent les plus petit coûts"
   ]
  },
  {
   "cell_type": "code",
   "execution_count": 77,
   "metadata": {},
   "outputs": [],
   "source": [
    "proba_is = dataframe['proba is'].to_numpy()\n",
    "proba_sr = dataframe['proba sr'].to_numpy()\n",
    "nb_hps = dataframe['nombre hpb'].to_numpy()\n",
    "nb_shp = dataframe['nombre shp'].to_numpy()"
   ]
  },
  {
   "cell_type": "code",
   "execution_count": 78,
   "metadata": {},
   "outputs": [],
   "source": [
    "res = []\n",
    "for i in range(len(min_indices)): \n",
    "    temp = []\n",
    "    j = min_indices[i]\n",
    "    temp.extend([proba_is[j], proba_sr[j], nb_hps[j], nb_shp[j], K[j], cumul[j], cout[j]])\n",
    "    res.append(temp)"
   ]
  },
  {
   "cell_type": "code",
   "execution_count": 79,
   "metadata": {},
   "outputs": [
    {
     "data": {
      "text/html": [
       "<div>\n",
       "<style scoped>\n",
       "    .dataframe tbody tr th:only-of-type {\n",
       "        vertical-align: middle;\n",
       "    }\n",
       "\n",
       "    .dataframe tbody tr th {\n",
       "        vertical-align: top;\n",
       "    }\n",
       "\n",
       "    .dataframe thead th {\n",
       "        text-align: right;\n",
       "    }\n",
       "</style>\n",
       "<table border=\"1\" class=\"dataframe\">\n",
       "  <thead>\n",
       "    <tr style=\"text-align: right;\">\n",
       "      <th></th>\n",
       "      <th>proba is</th>\n",
       "      <th>proba sr</th>\n",
       "      <th>nombre hp basiques</th>\n",
       "      <th>nombre hp intelligents</th>\n",
       "      <th>investissement</th>\n",
       "      <th>nombre cumule d'infectés</th>\n",
       "      <th>coût à minimiser</th>\n",
       "    </tr>\n",
       "  </thead>\n",
       "  <tbody>\n",
       "    <tr>\n",
       "      <th>0</th>\n",
       "      <td>0.15</td>\n",
       "      <td>0.060</td>\n",
       "      <td>3</td>\n",
       "      <td>3</td>\n",
       "      <td>117866.4</td>\n",
       "      <td>13702.333333</td>\n",
       "      <td>46263.985325</td>\n",
       "    </tr>\n",
       "    <tr>\n",
       "      <th>1</th>\n",
       "      <td>0.20</td>\n",
       "      <td>0.060</td>\n",
       "      <td>3</td>\n",
       "      <td>3</td>\n",
       "      <td>124029.7</td>\n",
       "      <td>11391.000000</td>\n",
       "      <td>46551.034250</td>\n",
       "    </tr>\n",
       "    <tr>\n",
       "      <th>2</th>\n",
       "      <td>0.15</td>\n",
       "      <td>0.060</td>\n",
       "      <td>2</td>\n",
       "      <td>4</td>\n",
       "      <td>121525.8</td>\n",
       "      <td>14059.000000</td>\n",
       "      <td>46596.661181</td>\n",
       "    </tr>\n",
       "    <tr>\n",
       "      <th>3</th>\n",
       "      <td>0.20</td>\n",
       "      <td>0.060</td>\n",
       "      <td>4</td>\n",
       "      <td>1</td>\n",
       "      <td>122728.8</td>\n",
       "      <td>11477.333333</td>\n",
       "      <td>46676.563195</td>\n",
       "    </tr>\n",
       "    <tr>\n",
       "      <th>4</th>\n",
       "      <td>0.20</td>\n",
       "      <td>0.060</td>\n",
       "      <td>1</td>\n",
       "      <td>3</td>\n",
       "      <td>125297.2</td>\n",
       "      <td>11977.000000</td>\n",
       "      <td>46970.327711</td>\n",
       "    </tr>\n",
       "    <tr>\n",
       "      <th>5</th>\n",
       "      <td>0.20</td>\n",
       "      <td>0.060</td>\n",
       "      <td>5</td>\n",
       "      <td>3</td>\n",
       "      <td>128465.1</td>\n",
       "      <td>11794.666667</td>\n",
       "      <td>47094.867337</td>\n",
       "    </tr>\n",
       "    <tr>\n",
       "      <th>6</th>\n",
       "      <td>0.20</td>\n",
       "      <td>0.060</td>\n",
       "      <td>1</td>\n",
       "      <td>4</td>\n",
       "      <td>131939.4</td>\n",
       "      <td>12117.333333</td>\n",
       "      <td>47111.639796</td>\n",
       "    </tr>\n",
       "    <tr>\n",
       "      <th>7</th>\n",
       "      <td>0.20</td>\n",
       "      <td>0.060</td>\n",
       "      <td>3</td>\n",
       "      <td>2</td>\n",
       "      <td>125288.0</td>\n",
       "      <td>11980.000000</td>\n",
       "      <td>47135.937148</td>\n",
       "    </tr>\n",
       "    <tr>\n",
       "      <th>8</th>\n",
       "      <td>0.20</td>\n",
       "      <td>0.060</td>\n",
       "      <td>5</td>\n",
       "      <td>2</td>\n",
       "      <td>126172.2</td>\n",
       "      <td>11914.000000</td>\n",
       "      <td>47208.305396</td>\n",
       "    </tr>\n",
       "    <tr>\n",
       "      <th>9</th>\n",
       "      <td>0.20</td>\n",
       "      <td>0.055</td>\n",
       "      <td>2</td>\n",
       "      <td>3</td>\n",
       "      <td>131713.2</td>\n",
       "      <td>12478.333333</td>\n",
       "      <td>47216.980615</td>\n",
       "    </tr>\n",
       "    <tr>\n",
       "      <th>10</th>\n",
       "      <td>0.20</td>\n",
       "      <td>0.060</td>\n",
       "      <td>4</td>\n",
       "      <td>4</td>\n",
       "      <td>131696.8</td>\n",
       "      <td>12040.666667</td>\n",
       "      <td>47286.193784</td>\n",
       "    </tr>\n",
       "    <tr>\n",
       "      <th>11</th>\n",
       "      <td>0.20</td>\n",
       "      <td>0.050</td>\n",
       "      <td>4</td>\n",
       "      <td>4</td>\n",
       "      <td>135616.7</td>\n",
       "      <td>12701.333333</td>\n",
       "      <td>47302.636642</td>\n",
       "    </tr>\n",
       "    <tr>\n",
       "      <th>12</th>\n",
       "      <td>0.20</td>\n",
       "      <td>0.060</td>\n",
       "      <td>3</td>\n",
       "      <td>4</td>\n",
       "      <td>131905.4</td>\n",
       "      <td>12139.666667</td>\n",
       "      <td>47305.778285</td>\n",
       "    </tr>\n",
       "    <tr>\n",
       "      <th>13</th>\n",
       "      <td>0.20</td>\n",
       "      <td>0.060</td>\n",
       "      <td>5</td>\n",
       "      <td>0</td>\n",
       "      <td>124728.6</td>\n",
       "      <td>12097.666667</td>\n",
       "      <td>47358.694487</td>\n",
       "    </tr>\n",
       "    <tr>\n",
       "      <th>14</th>\n",
       "      <td>0.20</td>\n",
       "      <td>0.060</td>\n",
       "      <td>4</td>\n",
       "      <td>3</td>\n",
       "      <td>128847.2</td>\n",
       "      <td>12141.666667</td>\n",
       "      <td>47367.982927</td>\n",
       "    </tr>\n",
       "  </tbody>\n",
       "</table>\n",
       "</div>"
      ],
      "text/plain": [
       "    proba is  proba sr  nombre hp basiques  nombre hp intelligents  \\\n",
       "0       0.15     0.060                   3                       3   \n",
       "1       0.20     0.060                   3                       3   \n",
       "2       0.15     0.060                   2                       4   \n",
       "3       0.20     0.060                   4                       1   \n",
       "4       0.20     0.060                   1                       3   \n",
       "5       0.20     0.060                   5                       3   \n",
       "6       0.20     0.060                   1                       4   \n",
       "7       0.20     0.060                   3                       2   \n",
       "8       0.20     0.060                   5                       2   \n",
       "9       0.20     0.055                   2                       3   \n",
       "10      0.20     0.060                   4                       4   \n",
       "11      0.20     0.050                   4                       4   \n",
       "12      0.20     0.060                   3                       4   \n",
       "13      0.20     0.060                   5                       0   \n",
       "14      0.20     0.060                   4                       3   \n",
       "\n",
       "    investissement  nombre cumule d'infectés  coût à minimiser  \n",
       "0         117866.4              13702.333333      46263.985325  \n",
       "1         124029.7              11391.000000      46551.034250  \n",
       "2         121525.8              14059.000000      46596.661181  \n",
       "3         122728.8              11477.333333      46676.563195  \n",
       "4         125297.2              11977.000000      46970.327711  \n",
       "5         128465.1              11794.666667      47094.867337  \n",
       "6         131939.4              12117.333333      47111.639796  \n",
       "7         125288.0              11980.000000      47135.937148  \n",
       "8         126172.2              11914.000000      47208.305396  \n",
       "9         131713.2              12478.333333      47216.980615  \n",
       "10        131696.8              12040.666667      47286.193784  \n",
       "11        135616.7              12701.333333      47302.636642  \n",
       "12        131905.4              12139.666667      47305.778285  \n",
       "13        124728.6              12097.666667      47358.694487  \n",
       "14        128847.2              12141.666667      47367.982927  "
      ]
     },
     "execution_count": 79,
     "metadata": {},
     "output_type": "execute_result"
    }
   ],
   "source": [
    "df_res = pd.DataFrame(data=res, columns= [\"proba is\", \"proba sr\", \"nombre hp basiques\", \"nombre hp intelligents\", \"investissement\", \"nombre cumule d'infectés\", \"coût à minimiser\"])\n",
    "\n",
    "df_res"
   ]
  },
  {
   "cell_type": "code",
   "execution_count": null,
   "metadata": {},
   "outputs": [],
   "source": []
  }
 ],
 "metadata": {
  "kernelspec": {
   "display_name": "base",
   "language": "python",
   "name": "python3"
  },
  "language_info": {
   "codemirror_mode": {
    "name": "ipython",
    "version": 3
   },
   "file_extension": ".py",
   "mimetype": "text/x-python",
   "name": "python",
   "nbconvert_exporter": "python",
   "pygments_lexer": "ipython3",
   "version": "3.10.14"
  }
 },
 "nbformat": 4,
 "nbformat_minor": 2
}
